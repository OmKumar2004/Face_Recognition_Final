{
 "cells": [
  {
   "cell_type": "code",
   "execution_count": 1,
   "id": "d3787401",
   "metadata": {},
   "outputs": [
    {
     "name": "stdout",
     "output_type": "stream",
     "text": [
      "Using torch 2.0.1+cu117\n"
     ]
    }
   ],
   "source": [
    "import torch\n",
    "print(\"Using torch\", torch.__version__)"
   ]
  },
  {
   "cell_type": "code",
   "execution_count": 2,
   "id": "6acd9247",
   "metadata": {},
   "outputs": [
    {
     "name": "stdout",
     "output_type": "stream",
     "text": [
      "Device cuda\n"
     ]
    }
   ],
   "source": [
    "device = torch.device(\"cuda\") if torch.cuda.is_available() else torch.device(\"cpu\")\n",
    "print(\"Device\", device)"
   ]
  },
  {
   "cell_type": "markdown",
   "id": "b03c5284",
   "metadata": {},
   "source": [
    "## Importing Libraries"
   ]
  },
  {
   "cell_type": "code",
   "execution_count": 3,
   "id": "5f79a5ba",
   "metadata": {},
   "outputs": [],
   "source": [
    "import pandas as pd\n",
    "import numpy as np\n",
    "import matplotlib.pyplot as plt\n",
    "import seaborn as sns\n",
    "\n",
    "from sklearn.model_selection import train_test_split    # For splitting the dataset\n",
    "from sklearn import svm\n",
    "from sklearn.datasets import make_moons\n",
    "from sklearn.svm import SVC\n",
    "from sklearn.inspection import DecisionBoundaryDisplay  # For plotting the non liner decision boundaries\n",
    "from sklearn.model_selection import GridSearchCV        # For hyperperameter tuning\n",
    "from sklearn.preprocessing import StandardScaler\n",
    "from sklearn.datasets import make_classification\n",
    "from sklearn.metrics import accuracy_score\n",
    "from sklearn.metrics import classification_report\n",
    "from sklearn.metrics import confusion_matrix, ConfusionMatrixDisplay\n",
    "\n",
    "import joblib"
   ]
  },
  {
   "cell_type": "markdown",
   "id": "955a82eb",
   "metadata": {},
   "source": [
    "## Data Pre-processing"
   ]
  },
  {
   "cell_type": "code",
   "execution_count": 4,
   "id": "3d8065f6",
   "metadata": {},
   "outputs": [
    {
     "name": "stdout",
     "output_type": "stream",
     "text": [
      "                    0         1         2         3         4         5     \\\n",
      "0      Rachel_Leigh_Cook  0.101289  1.330157 -0.964354  0.278769 -0.543510   \n",
      "1          Roseanne_Barr  0.391125  0.704784  1.217563 -0.780129 -1.414380   \n",
      "2         Vladimir_Putin -1.246895 -0.680080  0.591671 -2.354134 -1.920589   \n",
      "3           Carlos_Menem  0.597257 -0.661087  1.356273 -0.878202 -0.588220   \n",
      "4          Lynne_Thigpen -1.589231 -0.049223 -1.306154 -0.461846  0.250779   \n",
      "...                  ...       ...       ...       ...       ...       ...   \n",
      "10581    Rohinton_Mistry  1.724274 -1.189989 -1.052075  1.067114 -0.041331   \n",
      "10582      George_W_Bush  2.658667  0.404976  0.808148 -0.520925 -0.804796   \n",
      "10583        Vicente_Fox  0.479659 -0.820659  0.506519  0.026553  1.815414   \n",
      "10584          Todd_Wike -1.765033 -0.231035  0.285658 -1.902368 -0.086056   \n",
      "10585         Kofi_Annan  1.083461  0.993570 -0.346959  1.194149 -1.330585   \n",
      "\n",
      "           6         7         8         9     ...  3239   3240    3241  \\\n",
      "0      1.725658 -0.641089 -0.416891 -0.197742  ...  52.0  689.0  2015.0   \n",
      "1      0.959051  1.196409  1.637598  0.144761  ...  44.0  654.0  1721.0   \n",
      "2     -0.013368  0.060721 -0.179192  1.438939  ...  35.0  504.0  3792.0   \n",
      "3     -0.435263 -0.077499 -0.152108  0.537329  ...  53.0  495.0  1593.0   \n",
      "4     -2.198609 -0.026885  0.607296 -0.321626  ...  39.0  520.0  1744.0   \n",
      "...         ...       ...       ...       ...  ...   ...    ...     ...   \n",
      "10581 -1.041967  0.489807 -0.337491  0.861314  ...  27.0  510.0  1762.0   \n",
      "10582 -0.934096 -0.822317  0.678373  1.094624  ...  25.0  498.0  1489.0   \n",
      "10583  0.802808 -0.078373 -0.528186  0.354849  ...  44.0  635.0  3054.0   \n",
      "10584 -0.890823  0.327025  0.271633  0.173743  ...  18.0  416.0  2419.0   \n",
      "10585  3.842476 -1.338618 -0.948145 -0.657723  ...  51.0  429.0  1058.0   \n",
      "\n",
      "        3242  3243   3244   3245   3246   3247     3248  \n",
      "0      543.0  19.0  301.0  450.0  355.0  289.0  11011.0  \n",
      "1      548.0  26.0  416.0  510.0  451.0  378.0   7875.0  \n",
      "2      564.0  27.0  420.0  679.0  460.0  611.0  17388.0  \n",
      "3      566.0  34.0  343.0  563.0  399.0  338.0   9557.0  \n",
      "4      502.0  24.0  339.0  531.0  398.0  394.0  14844.0  \n",
      "...      ...   ...    ...    ...    ...    ...      ...  \n",
      "10581  799.0  34.0  659.0  694.0  602.0  457.0   6182.0  \n",
      "10582  489.0  21.0  417.0  484.0  412.0  331.0  15256.0  \n",
      "10583  639.0  19.0  401.0  747.0  373.0  446.0   6164.0  \n",
      "10584  576.0  34.0  379.0  580.0  453.0  356.0  12839.0  \n",
      "10585  367.0  18.0  326.0  277.0  295.0  259.0  28493.0  \n",
      "\n",
      "[10586 rows x 3249 columns]\n"
     ]
    }
   ],
   "source": [
    "training_data_95 = pd.read_csv('../csvs/hog_95/extracted_features_hog_95.csv',header = None)\n",
    "print(training_data_95)\n",
    "\n",
    "# X_train_df = training_data_95.drop(columns = [0])\n",
    "# y_train_df = training_data_95[0]\n",
    "\n",
    "# print(X_train_df)\n",
    "# print(y_train_df)"
   ]
  },
  {
   "cell_type": "code",
   "execution_count": 5,
   "id": "dc083116",
   "metadata": {},
   "outputs": [
    {
     "name": "stdout",
     "output_type": "stream",
     "text": [
      "                         0         1         2         3         4     \\\n",
      "0              Carolina_Kluft  1.943908 -0.685770  0.135847 -0.574862   \n",
      "1            Roger_Etchegaray -1.104129  0.259980 -1.581375  0.471127   \n",
      "2                  JK_Rowling  1.170456 -1.014306 -0.396331  0.125549   \n",
      "3     Valery_Giscard_dEstaing  1.449810  0.777844  1.786893 -0.590618   \n",
      "4         Juan_Carlos_Ferrero -0.364156 -1.960419 -0.170895  0.499791   \n",
      "...                       ...       ...       ...       ...       ...   \n",
      "2642            Michael_Chang  1.412572 -0.760504  0.483098 -0.281977   \n",
      "2643              Osrat_Iosef  1.675409  2.553274 -0.504704 -0.422554   \n",
      "2644              Yann_Martel  1.023609 -0.542472  0.853466  0.449747   \n",
      "2645             Mitzi_Gaynor -0.901391  0.372586  2.181821  0.809191   \n",
      "2646                Fujio_Cho  0.938650 -0.126036 -1.422143  0.285539   \n",
      "\n",
      "          5         6         7         8         9     ...  3239   3240  \\\n",
      "0    -0.959423  0.472946  0.260016  0.167261 -0.646648  ...  27.0  580.0   \n",
      "1     0.532546 -0.052883 -0.473221  0.638215  0.001462  ...  52.0  655.0   \n",
      "2    -0.117453  0.548831 -0.448258  0.791677  0.006212  ...  40.0  600.0   \n",
      "3    -0.033921  1.061551 -0.140647 -0.388224 -0.485114  ...  73.0  670.0   \n",
      "4    -0.252831 -0.311871  0.121957  0.250186 -0.244482  ...  33.0  658.0   \n",
      "...        ...       ...       ...       ...       ...  ...   ...    ...   \n",
      "2642 -0.853011 -0.315584 -0.124905  0.408075  0.098338  ...  25.0  549.0   \n",
      "2643 -1.573017 -0.625349 -0.493574 -0.145416  0.217964  ...  23.0  443.0   \n",
      "2644  0.429360 -1.524525 -0.496835 -0.189346  0.763982  ...  31.0  448.0   \n",
      "2645  0.340787 -0.679349  0.697390  0.059463 -1.015048  ...  29.0  333.0   \n",
      "2646 -0.797718 -0.947849  0.252543 -1.069472 -1.329822  ...  22.0  349.0   \n",
      "\n",
      "        3241   3242  3243   3244   3245   3246   3247     3248  \n",
      "0     2748.0  549.0  28.0  293.0  504.0  355.0  246.0   3691.0  \n",
      "1     1593.0  569.0  38.0  411.0  655.0  580.0  508.0  14170.0  \n",
      "2     2706.0  561.0  21.0  385.0  699.0  412.0  500.0   4549.0  \n",
      "3     1356.0  592.0  35.0  459.0  634.0  590.0  539.0  16234.0  \n",
      "4     1953.0  605.0  22.0  318.0  640.0  391.0  454.0   5011.0  \n",
      "...      ...    ...   ...    ...    ...    ...    ...      ...  \n",
      "2642  2076.0  686.0  30.0  483.0  692.0  504.0  461.0  10103.0  \n",
      "2643  1436.0  640.0  27.0  453.0  517.0  452.0  316.0  12156.0  \n",
      "2644  2524.0  691.0  22.0  538.0  563.0  515.0  436.0  11960.0  \n",
      "2645  2054.0  660.0  38.0  549.0  661.0  541.0  571.0  17229.0  \n",
      "2646  1108.0  527.0  26.0  381.0  415.0  428.0  294.0  13375.0  \n",
      "\n",
      "[2647 rows x 3249 columns]\n"
     ]
    }
   ],
   "source": [
    "testing_data_95 = pd.read_csv('../csvs/hog_95/extracted_features_test_hog_95.csv', header = None)\n",
    "print(testing_data_95)\n",
    "\n",
    "# X_test_df = testing_data_95.drop(columns = [0])\n",
    "# y_test_df = testing_data_95[0]\n",
    "\n",
    "# print(X_test_df)\n",
    "# print(y_test_df)"
   ]
  },
  {
   "cell_type": "markdown",
   "id": "ac063721",
   "metadata": {},
   "source": [
    "### Taking only the images of persons whose number of images are greater than equal to 50"
   ]
  },
  {
   "cell_type": "code",
   "execution_count": 6,
   "id": "738d9c3c",
   "metadata": {},
   "outputs": [
    {
     "name": "stdout",
     "output_type": "stream",
     "text": [
      "<class 'pandas.core.frame.DataFrame'>\n",
      "Int64Index: 13233 entries, 0 to 2646\n",
      "Columns: 3249 entries, 0 to 3248\n",
      "dtypes: float64(3248), object(1)\n",
      "memory usage: 328.1+ MB\n"
     ]
    }
   ],
   "source": [
    "df = pd.concat([training_data_95,testing_data_95],axis = 0)\n",
    "df.info()"
   ]
  },
  {
   "cell_type": "code",
   "execution_count": 7,
   "id": "d6f39b7e",
   "metadata": {},
   "outputs": [
    {
     "data": {
      "text/html": [
       "<div>\n",
       "<style scoped>\n",
       "    .dataframe tbody tr th:only-of-type {\n",
       "        vertical-align: middle;\n",
       "    }\n",
       "\n",
       "    .dataframe tbody tr th {\n",
       "        vertical-align: top;\n",
       "    }\n",
       "\n",
       "    .dataframe thead th {\n",
       "        text-align: right;\n",
       "    }\n",
       "</style>\n",
       "<table border=\"1\" class=\"dataframe\">\n",
       "  <thead>\n",
       "    <tr style=\"text-align: right;\">\n",
       "      <th></th>\n",
       "      <th>0</th>\n",
       "      <th>1</th>\n",
       "      <th>2</th>\n",
       "      <th>3</th>\n",
       "      <th>4</th>\n",
       "      <th>5</th>\n",
       "      <th>6</th>\n",
       "      <th>7</th>\n",
       "      <th>8</th>\n",
       "      <th>9</th>\n",
       "      <th>...</th>\n",
       "      <th>3239</th>\n",
       "      <th>3240</th>\n",
       "      <th>3241</th>\n",
       "      <th>3242</th>\n",
       "      <th>3243</th>\n",
       "      <th>3244</th>\n",
       "      <th>3245</th>\n",
       "      <th>3246</th>\n",
       "      <th>3247</th>\n",
       "      <th>3248</th>\n",
       "    </tr>\n",
       "  </thead>\n",
       "  <tbody>\n",
       "    <tr>\n",
       "      <th>0</th>\n",
       "      <td>George_W_Bush</td>\n",
       "      <td>-1.824086</td>\n",
       "      <td>-0.401801</td>\n",
       "      <td>-0.521794</td>\n",
       "      <td>-0.587088</td>\n",
       "      <td>-0.509684</td>\n",
       "      <td>0.280968</td>\n",
       "      <td>-1.599484</td>\n",
       "      <td>0.290741</td>\n",
       "      <td>0.713462</td>\n",
       "      <td>...</td>\n",
       "      <td>31.0</td>\n",
       "      <td>359.0</td>\n",
       "      <td>1280.0</td>\n",
       "      <td>349.0</td>\n",
       "      <td>26.0</td>\n",
       "      <td>262.0</td>\n",
       "      <td>456.0</td>\n",
       "      <td>332.0</td>\n",
       "      <td>313.0</td>\n",
       "      <td>16523.0</td>\n",
       "    </tr>\n",
       "    <tr>\n",
       "      <th>1</th>\n",
       "      <td>Colin_Powell</td>\n",
       "      <td>0.549831</td>\n",
       "      <td>-0.715630</td>\n",
       "      <td>1.769869</td>\n",
       "      <td>0.222841</td>\n",
       "      <td>0.108078</td>\n",
       "      <td>0.219034</td>\n",
       "      <td>-0.818753</td>\n",
       "      <td>-0.839518</td>\n",
       "      <td>-0.129442</td>\n",
       "      <td>...</td>\n",
       "      <td>44.0</td>\n",
       "      <td>504.0</td>\n",
       "      <td>1817.0</td>\n",
       "      <td>748.0</td>\n",
       "      <td>30.0</td>\n",
       "      <td>501.0</td>\n",
       "      <td>556.0</td>\n",
       "      <td>396.0</td>\n",
       "      <td>362.0</td>\n",
       "      <td>14746.0</td>\n",
       "    </tr>\n",
       "    <tr>\n",
       "      <th>2</th>\n",
       "      <td>George_W_Bush</td>\n",
       "      <td>-0.628315</td>\n",
       "      <td>-0.750331</td>\n",
       "      <td>0.547397</td>\n",
       "      <td>0.478640</td>\n",
       "      <td>2.337426</td>\n",
       "      <td>0.526050</td>\n",
       "      <td>0.712348</td>\n",
       "      <td>-1.843158</td>\n",
       "      <td>-0.076518</td>\n",
       "      <td>...</td>\n",
       "      <td>27.0</td>\n",
       "      <td>302.0</td>\n",
       "      <td>1903.0</td>\n",
       "      <td>347.0</td>\n",
       "      <td>13.0</td>\n",
       "      <td>263.0</td>\n",
       "      <td>381.0</td>\n",
       "      <td>313.0</td>\n",
       "      <td>252.0</td>\n",
       "      <td>29224.0</td>\n",
       "    </tr>\n",
       "    <tr>\n",
       "      <th>3</th>\n",
       "      <td>George_W_Bush</td>\n",
       "      <td>2.176470</td>\n",
       "      <td>-0.997268</td>\n",
       "      <td>0.699885</td>\n",
       "      <td>-1.213921</td>\n",
       "      <td>0.090995</td>\n",
       "      <td>1.768202</td>\n",
       "      <td>0.787791</td>\n",
       "      <td>-0.212840</td>\n",
       "      <td>0.012334</td>\n",
       "      <td>...</td>\n",
       "      <td>58.0</td>\n",
       "      <td>725.0</td>\n",
       "      <td>2027.0</td>\n",
       "      <td>597.0</td>\n",
       "      <td>39.0</td>\n",
       "      <td>361.0</td>\n",
       "      <td>507.0</td>\n",
       "      <td>334.0</td>\n",
       "      <td>312.0</td>\n",
       "      <td>6742.0</td>\n",
       "    </tr>\n",
       "    <tr>\n",
       "      <th>4</th>\n",
       "      <td>Tony_Blair</td>\n",
       "      <td>-2.303506</td>\n",
       "      <td>-0.646863</td>\n",
       "      <td>0.022650</td>\n",
       "      <td>1.529321</td>\n",
       "      <td>0.472518</td>\n",
       "      <td>0.093752</td>\n",
       "      <td>0.199501</td>\n",
       "      <td>-0.097458</td>\n",
       "      <td>-0.722055</td>\n",
       "      <td>...</td>\n",
       "      <td>25.0</td>\n",
       "      <td>374.0</td>\n",
       "      <td>2097.0</td>\n",
       "      <td>485.0</td>\n",
       "      <td>12.0</td>\n",
       "      <td>340.0</td>\n",
       "      <td>622.0</td>\n",
       "      <td>450.0</td>\n",
       "      <td>491.0</td>\n",
       "      <td>16778.0</td>\n",
       "    </tr>\n",
       "    <tr>\n",
       "      <th>...</th>\n",
       "      <td>...</td>\n",
       "      <td>...</td>\n",
       "      <td>...</td>\n",
       "      <td>...</td>\n",
       "      <td>...</td>\n",
       "      <td>...</td>\n",
       "      <td>...</td>\n",
       "      <td>...</td>\n",
       "      <td>...</td>\n",
       "      <td>...</td>\n",
       "      <td>...</td>\n",
       "      <td>...</td>\n",
       "      <td>...</td>\n",
       "      <td>...</td>\n",
       "      <td>...</td>\n",
       "      <td>...</td>\n",
       "      <td>...</td>\n",
       "      <td>...</td>\n",
       "      <td>...</td>\n",
       "      <td>...</td>\n",
       "      <td>...</td>\n",
       "    </tr>\n",
       "    <tr>\n",
       "      <th>1555</th>\n",
       "      <td>George_W_Bush</td>\n",
       "      <td>-0.754818</td>\n",
       "      <td>-0.751547</td>\n",
       "      <td>-0.307345</td>\n",
       "      <td>0.836765</td>\n",
       "      <td>-0.443559</td>\n",
       "      <td>0.034152</td>\n",
       "      <td>1.786415</td>\n",
       "      <td>0.199164</td>\n",
       "      <td>-0.641788</td>\n",
       "      <td>...</td>\n",
       "      <td>41.0</td>\n",
       "      <td>496.0</td>\n",
       "      <td>1763.0</td>\n",
       "      <td>513.0</td>\n",
       "      <td>22.0</td>\n",
       "      <td>445.0</td>\n",
       "      <td>518.0</td>\n",
       "      <td>527.0</td>\n",
       "      <td>430.0</td>\n",
       "      <td>11888.0</td>\n",
       "    </tr>\n",
       "    <tr>\n",
       "      <th>1556</th>\n",
       "      <td>Tony_Blair</td>\n",
       "      <td>0.356975</td>\n",
       "      <td>-0.575622</td>\n",
       "      <td>-1.112081</td>\n",
       "      <td>-0.147580</td>\n",
       "      <td>2.257156</td>\n",
       "      <td>1.439668</td>\n",
       "      <td>-0.556521</td>\n",
       "      <td>0.081855</td>\n",
       "      <td>1.255535</td>\n",
       "      <td>...</td>\n",
       "      <td>45.0</td>\n",
       "      <td>646.0</td>\n",
       "      <td>3227.0</td>\n",
       "      <td>691.0</td>\n",
       "      <td>25.0</td>\n",
       "      <td>573.0</td>\n",
       "      <td>724.0</td>\n",
       "      <td>379.0</td>\n",
       "      <td>567.0</td>\n",
       "      <td>12012.0</td>\n",
       "    </tr>\n",
       "    <tr>\n",
       "      <th>1557</th>\n",
       "      <td>George_W_Bush</td>\n",
       "      <td>2.378569</td>\n",
       "      <td>0.299064</td>\n",
       "      <td>-0.343518</td>\n",
       "      <td>1.097499</td>\n",
       "      <td>0.782947</td>\n",
       "      <td>0.991848</td>\n",
       "      <td>-0.635729</td>\n",
       "      <td>-0.408563</td>\n",
       "      <td>-0.150484</td>\n",
       "      <td>...</td>\n",
       "      <td>40.0</td>\n",
       "      <td>353.0</td>\n",
       "      <td>1540.0</td>\n",
       "      <td>480.0</td>\n",
       "      <td>35.0</td>\n",
       "      <td>355.0</td>\n",
       "      <td>396.0</td>\n",
       "      <td>395.0</td>\n",
       "      <td>318.0</td>\n",
       "      <td>27232.0</td>\n",
       "    </tr>\n",
       "    <tr>\n",
       "      <th>1558</th>\n",
       "      <td>Tony_Blair</td>\n",
       "      <td>0.732607</td>\n",
       "      <td>-0.158723</td>\n",
       "      <td>-2.044487</td>\n",
       "      <td>0.405323</td>\n",
       "      <td>1.605780</td>\n",
       "      <td>-0.532496</td>\n",
       "      <td>-0.508825</td>\n",
       "      <td>0.240685</td>\n",
       "      <td>0.907796</td>\n",
       "      <td>...</td>\n",
       "      <td>35.0</td>\n",
       "      <td>522.0</td>\n",
       "      <td>1654.0</td>\n",
       "      <td>719.0</td>\n",
       "      <td>30.0</td>\n",
       "      <td>543.0</td>\n",
       "      <td>728.0</td>\n",
       "      <td>603.0</td>\n",
       "      <td>519.0</td>\n",
       "      <td>8109.0</td>\n",
       "    </tr>\n",
       "    <tr>\n",
       "      <th>1559</th>\n",
       "      <td>George_W_Bush</td>\n",
       "      <td>-0.431153</td>\n",
       "      <td>-1.341352</td>\n",
       "      <td>-0.610607</td>\n",
       "      <td>-0.411693</td>\n",
       "      <td>0.667436</td>\n",
       "      <td>-0.542481</td>\n",
       "      <td>-1.090542</td>\n",
       "      <td>0.270212</td>\n",
       "      <td>0.813685</td>\n",
       "      <td>...</td>\n",
       "      <td>46.0</td>\n",
       "      <td>510.0</td>\n",
       "      <td>1653.0</td>\n",
       "      <td>510.0</td>\n",
       "      <td>34.0</td>\n",
       "      <td>427.0</td>\n",
       "      <td>593.0</td>\n",
       "      <td>490.0</td>\n",
       "      <td>404.0</td>\n",
       "      <td>8155.0</td>\n",
       "    </tr>\n",
       "  </tbody>\n",
       "</table>\n",
       "<p>1560 rows × 3249 columns</p>\n",
       "</div>"
      ],
      "text/plain": [
       "               0         1         2         3         4         5     \\\n",
       "0     George_W_Bush -1.824086 -0.401801 -0.521794 -0.587088 -0.509684   \n",
       "1      Colin_Powell  0.549831 -0.715630  1.769869  0.222841  0.108078   \n",
       "2     George_W_Bush -0.628315 -0.750331  0.547397  0.478640  2.337426   \n",
       "3     George_W_Bush  2.176470 -0.997268  0.699885 -1.213921  0.090995   \n",
       "4        Tony_Blair -2.303506 -0.646863  0.022650  1.529321  0.472518   \n",
       "...             ...       ...       ...       ...       ...       ...   \n",
       "1555  George_W_Bush -0.754818 -0.751547 -0.307345  0.836765 -0.443559   \n",
       "1556     Tony_Blair  0.356975 -0.575622 -1.112081 -0.147580  2.257156   \n",
       "1557  George_W_Bush  2.378569  0.299064 -0.343518  1.097499  0.782947   \n",
       "1558     Tony_Blair  0.732607 -0.158723 -2.044487  0.405323  1.605780   \n",
       "1559  George_W_Bush -0.431153 -1.341352 -0.610607 -0.411693  0.667436   \n",
       "\n",
       "          6         7         8         9     ...  3239   3240    3241   3242  \\\n",
       "0     0.280968 -1.599484  0.290741  0.713462  ...  31.0  359.0  1280.0  349.0   \n",
       "1     0.219034 -0.818753 -0.839518 -0.129442  ...  44.0  504.0  1817.0  748.0   \n",
       "2     0.526050  0.712348 -1.843158 -0.076518  ...  27.0  302.0  1903.0  347.0   \n",
       "3     1.768202  0.787791 -0.212840  0.012334  ...  58.0  725.0  2027.0  597.0   \n",
       "4     0.093752  0.199501 -0.097458 -0.722055  ...  25.0  374.0  2097.0  485.0   \n",
       "...        ...       ...       ...       ...  ...   ...    ...     ...    ...   \n",
       "1555  0.034152  1.786415  0.199164 -0.641788  ...  41.0  496.0  1763.0  513.0   \n",
       "1556  1.439668 -0.556521  0.081855  1.255535  ...  45.0  646.0  3227.0  691.0   \n",
       "1557  0.991848 -0.635729 -0.408563 -0.150484  ...  40.0  353.0  1540.0  480.0   \n",
       "1558 -0.532496 -0.508825  0.240685  0.907796  ...  35.0  522.0  1654.0  719.0   \n",
       "1559 -0.542481 -1.090542  0.270212  0.813685  ...  46.0  510.0  1653.0  510.0   \n",
       "\n",
       "      3243   3244   3245   3246   3247     3248  \n",
       "0     26.0  262.0  456.0  332.0  313.0  16523.0  \n",
       "1     30.0  501.0  556.0  396.0  362.0  14746.0  \n",
       "2     13.0  263.0  381.0  313.0  252.0  29224.0  \n",
       "3     39.0  361.0  507.0  334.0  312.0   6742.0  \n",
       "4     12.0  340.0  622.0  450.0  491.0  16778.0  \n",
       "...    ...    ...    ...    ...    ...      ...  \n",
       "1555  22.0  445.0  518.0  527.0  430.0  11888.0  \n",
       "1556  25.0  573.0  724.0  379.0  567.0  12012.0  \n",
       "1557  35.0  355.0  396.0  395.0  318.0  27232.0  \n",
       "1558  30.0  543.0  728.0  603.0  519.0   8109.0  \n",
       "1559  34.0  427.0  593.0  490.0  404.0   8155.0  \n",
       "\n",
       "[1560 rows x 3249 columns]"
      ]
     },
     "execution_count": 7,
     "metadata": {},
     "output_type": "execute_result"
    }
   ],
   "source": [
    "df_50 = df[df[0].map(df[0].value_counts()) >= 50]  # Reference Stack overflow\n",
    "df_50.reset_index(drop=True, inplace = True)\n",
    "df_50"
   ]
  },
  {
   "cell_type": "code",
   "execution_count": 8,
   "id": "1e189ad7",
   "metadata": {},
   "outputs": [
    {
     "name": "stdout",
     "output_type": "stream",
     "text": [
      "Number of persons are  12\n"
     ]
    }
   ],
   "source": [
    "print(\"Number of persons are \",df_50[0].unique().shape[0])"
   ]
  },
  {
   "cell_type": "code",
   "execution_count": 9,
   "id": "5e975c20",
   "metadata": {},
   "outputs": [
    {
     "name": "stdout",
     "output_type": "stream",
     "text": [
      "          1         2         3         4         5         6         7     \\\n",
      "0    -1.824086 -0.401801 -0.521794 -0.587088 -0.509684  0.280968 -1.599484   \n",
      "1     0.549831 -0.715630  1.769869  0.222841  0.108078  0.219034 -0.818753   \n",
      "2    -0.628315 -0.750331  0.547397  0.478640  2.337426  0.526050  0.712348   \n",
      "3     2.176470 -0.997268  0.699885 -1.213921  0.090995  1.768202  0.787791   \n",
      "4    -2.303506 -0.646863  0.022650  1.529321  0.472518  0.093752  0.199501   \n",
      "...        ...       ...       ...       ...       ...       ...       ...   \n",
      "1555 -0.754818 -0.751547 -0.307345  0.836765 -0.443559  0.034152  1.786415   \n",
      "1556  0.356975 -0.575622 -1.112081 -0.147580  2.257156  1.439668 -0.556521   \n",
      "1557  2.378569  0.299064 -0.343518  1.097499  0.782947  0.991848 -0.635729   \n",
      "1558  0.732607 -0.158723 -2.044487  0.405323  1.605780 -0.532496 -0.508825   \n",
      "1559 -0.431153 -1.341352 -0.610607 -0.411693  0.667436 -0.542481 -1.090542   \n",
      "\n",
      "          8         9         10    ...  3239   3240    3241   3242  3243  \\\n",
      "0     0.290741  0.713462 -0.133826  ...  31.0  359.0  1280.0  349.0  26.0   \n",
      "1    -0.839518 -0.129442 -0.356030  ...  44.0  504.0  1817.0  748.0  30.0   \n",
      "2    -1.843158 -0.076518  1.121658  ...  27.0  302.0  1903.0  347.0  13.0   \n",
      "3    -0.212840  0.012334  0.163244  ...  58.0  725.0  2027.0  597.0  39.0   \n",
      "4    -0.097458 -0.722055 -0.036015  ...  25.0  374.0  2097.0  485.0  12.0   \n",
      "...        ...       ...       ...  ...   ...    ...     ...    ...   ...   \n",
      "1555  0.199164 -0.641788  0.153206  ...  41.0  496.0  1763.0  513.0  22.0   \n",
      "1556  0.081855  1.255535 -0.046772  ...  45.0  646.0  3227.0  691.0  25.0   \n",
      "1557 -0.408563 -0.150484  0.380185  ...  40.0  353.0  1540.0  480.0  35.0   \n",
      "1558  0.240685  0.907796  0.247054  ...  35.0  522.0  1654.0  719.0  30.0   \n",
      "1559  0.270212  0.813685  0.552957  ...  46.0  510.0  1653.0  510.0  34.0   \n",
      "\n",
      "       3244   3245   3246   3247     3248  \n",
      "0     262.0  456.0  332.0  313.0  16523.0  \n",
      "1     501.0  556.0  396.0  362.0  14746.0  \n",
      "2     263.0  381.0  313.0  252.0  29224.0  \n",
      "3     361.0  507.0  334.0  312.0   6742.0  \n",
      "4     340.0  622.0  450.0  491.0  16778.0  \n",
      "...     ...    ...    ...    ...      ...  \n",
      "1555  445.0  518.0  527.0  430.0  11888.0  \n",
      "1556  573.0  724.0  379.0  567.0  12012.0  \n",
      "1557  355.0  396.0  395.0  318.0  27232.0  \n",
      "1558  543.0  728.0  603.0  519.0   8109.0  \n",
      "1559  427.0  593.0  490.0  404.0   8155.0  \n",
      "\n",
      "[1560 rows x 3248 columns]\n"
     ]
    }
   ],
   "source": [
    "X_50 = df_50.drop(columns = [0])\n",
    "y_50 = df_50[0]\n",
    "X_train_50_df, X_test_50_df, y_train_50, y_test_50 = train_test_split(X_50,y_50,train_size=0.8,random_state=42)\n",
    "X_train_50_df.reset_index(drop=True, inplace = True)\n",
    "X_test_50_df.reset_index(drop=True, inplace = True)\n",
    "y_train_50.reset_index(drop=True, inplace = True)\n",
    "y_test_50.reset_index(drop=True, inplace = True)\n",
    "print(X_50)"
   ]
  },
  {
   "cell_type": "code",
   "execution_count": 10,
   "id": "c51a7271",
   "metadata": {},
   "outputs": [],
   "source": [
    "#Normalising the data\n",
    "scaler=StandardScaler()\n",
    "X_train_arr=X_train_50_df.values\n",
    "X_test_arr=X_test_50_df.values\n",
    "X_train_arr_n=scaler.fit_transform(X_train_arr)\n",
    "joblib.dump(scaler,'Standard_Scalar_Normalisation.joblib')\n",
    "X_test_arr_n = scaler.transform(X_test_arr)\n",
    "X_train_50 = pd.DataFrame(X_train_arr_n)\n",
    "X_test_50 = pd.DataFrame(X_test_arr_n)\n",
    "# X_train_50"
   ]
  },
  {
   "cell_type": "markdown",
   "id": "aa655738",
   "metadata": {},
   "source": [
    "# All features concatenated"
   ]
  },
  {
   "cell_type": "markdown",
   "id": "e2f2066c",
   "metadata": {},
   "source": [
    "## LinearSVC"
   ]
  },
  {
   "cell_type": "code",
   "execution_count": null,
   "id": "c6c45389",
   "metadata": {},
   "outputs": [],
   "source": [
    "# Training Linear Support Vector Classifier (LinearSVC)\n",
    "lin_clf = svm.LinearSVC(dual=False)\n",
    "lin_clf.fit(X_train_50, y_train_50)"
   ]
  },
  {
   "cell_type": "code",
   "execution_count": null,
   "id": "1e0676c7",
   "metadata": {},
   "outputs": [],
   "source": [
    "joblib.dump(lin_clf,'LinearSVC_All_n.joblib')"
   ]
  },
  {
   "cell_type": "code",
   "execution_count": null,
   "id": "39385653",
   "metadata": {},
   "outputs": [],
   "source": [
    "pred_y_test_50 = lin_clf.predict(X_test_50)"
   ]
  },
  {
   "cell_type": "code",
   "execution_count": null,
   "id": "705fbb85",
   "metadata": {},
   "outputs": [],
   "source": [
    "# Accuracy of linearSVC model\n",
    "linSVC_accuracy = lin_clf.score(X_test_50, y_test_50)\n",
    "print(\"Accuracy of linearSVC is \",linSVC_accuracy)"
   ]
  },
  {
   "cell_type": "code",
   "execution_count": null,
   "id": "b1d0c056",
   "metadata": {
    "scrolled": false
   },
   "outputs": [],
   "source": [
    "# Classification Report of linearSVC model\n",
    "print(classification_report(y_test_50,pred_y_test_50))"
   ]
  },
  {
   "cell_type": "code",
   "execution_count": null,
   "id": "3f6b8a88",
   "metadata": {},
   "outputs": [],
   "source": [
    "cm_linearSVC_ALL = confusion_matrix(y_test_50, pred_y_test_50)\n",
    "fig, axes = plt.subplots(figsize=(5, 5))\n",
    "sns.heatmap(cm_linearSVC_ALL, annot=True, fmt=\"d\", cmap=\"Blues\", xticklabels=lin_clf.classes_, yticklabels=lin_clf.classes_, ax=axes)\n",
    "axes.set_title('LinearSVC on concatenated features(from CNN, HOG, LBP)')\n",
    "axes.set_xlabel('Predicted')\n",
    "axes.set_ylabel('True')"
   ]
  },
  {
   "cell_type": "markdown",
   "id": "271d03d7",
   "metadata": {},
   "source": [
    "## SVM Models with Linear, polynomial and rbf kernals"
   ]
  },
  {
   "cell_type": "code",
   "execution_count": null,
   "id": "8304d462",
   "metadata": {},
   "outputs": [],
   "source": [
    "svm_linear = SVC(kernel='linear') # linear kernal\n",
    "svm_poly = SVC(kernel='poly', degree= 3)  # Polynomial kernel of degree 3\n",
    "svm_rbf = SVC(kernel='rbf')  # RBF kernel"
   ]
  },
  {
   "cell_type": "code",
   "execution_count": null,
   "id": "79db473f",
   "metadata": {},
   "outputs": [],
   "source": [
    "svm_linear.fit(X_train_50, y_train_50)\n",
    "svm_poly.fit(X_train_50, y_train_50)\n",
    "svm_rbf.fit(X_train_50, y_train_50)"
   ]
  },
  {
   "cell_type": "code",
   "execution_count": null,
   "id": "d0f9c609",
   "metadata": {},
   "outputs": [],
   "source": [
    "joblib.dump(svm_linear,'svm_linear_ALL_n.joblib')\n",
    "joblib.dump(svm_poly,'svm_poly_ALL_n.joblib')\n",
    "joblib.dump(svm_rbf,'svm_rbf_ALL_n.joblib')"
   ]
  },
  {
   "cell_type": "markdown",
   "id": "7a0ed313",
   "metadata": {},
   "source": [
    "### Linear Kernel"
   ]
  },
  {
   "cell_type": "code",
   "execution_count": null,
   "id": "da2a0e4f",
   "metadata": {},
   "outputs": [],
   "source": [
    "svm_linear.get_params()"
   ]
  },
  {
   "cell_type": "code",
   "execution_count": null,
   "id": "7eddd7c0",
   "metadata": {},
   "outputs": [],
   "source": [
    "lin_pred_y_50 = svm_linear.predict(X_test_50)"
   ]
  },
  {
   "cell_type": "code",
   "execution_count": null,
   "id": "33779437",
   "metadata": {},
   "outputs": [],
   "source": [
    "lin_accuracy = accuracy_score(y_test_50,lin_pred_y_50)\n",
    "print(\"Accuracy of SVM with Linear kernel is \",lin_accuracy)"
   ]
  },
  {
   "cell_type": "code",
   "execution_count": null,
   "id": "70c3d35f",
   "metadata": {},
   "outputs": [],
   "source": [
    "print(classification_report(y_test_50,lin_pred_y_50))"
   ]
  },
  {
   "cell_type": "markdown",
   "id": "e1c3c7b2",
   "metadata": {},
   "source": [
    "#### Tunning Hyperparameter"
   ]
  },
  {
   "cell_type": "code",
   "execution_count": null,
   "id": "be68e8b4",
   "metadata": {},
   "outputs": [],
   "source": [
    "c_values = [0.1, 1, 10, 100]\n",
    "\n",
    "accuracy_values = []\n",
    "predicted_values = []\n",
    "\n",
    "for i in c_values:\n",
    "    svm_lin_tunned = SVC(kernel='linear', C = i )\n",
    "    svm_lin_tunned.fit(X_train_50, y_train_50)\n",
    "    lin_t_pred_y_50 = svm_lin_tunned.predict(X_test_50)\n",
    "    lin_t_accuracy = accuracy_score(y_test_50,lin_t_pred_y_50)\n",
    "    \n",
    "    accuracy_values.append(lin_t_accuracy)\n",
    "    predicted_values.append(lin_t_pred_y_50)\n",
    "    \n",
    "print(accuracy_values)"
   ]
  },
  {
   "cell_type": "markdown",
   "id": "62edcc82",
   "metadata": {},
   "source": [
    "Therefor, value of c (between 0.1 to 100) is not affecting the accuracy.\n",
    "So, no requirement of hyperparameter tuning."
   ]
  },
  {
   "cell_type": "markdown",
   "id": "eec2e6fd",
   "metadata": {},
   "source": [
    "### Polynomial Kernel"
   ]
  },
  {
   "cell_type": "code",
   "execution_count": null,
   "id": "3777b4ae",
   "metadata": {},
   "outputs": [],
   "source": [
    "svm_poly.get_params()"
   ]
  },
  {
   "cell_type": "code",
   "execution_count": null,
   "id": "2d8394f2",
   "metadata": {},
   "outputs": [],
   "source": [
    "poly_pred_y_50 = svm_poly.predict(X_test_50)"
   ]
  },
  {
   "cell_type": "code",
   "execution_count": null,
   "id": "7bd17a83",
   "metadata": {},
   "outputs": [],
   "source": [
    "poly_accuracy = accuracy_score(y_test_50,poly_pred_y_50)\n",
    "print(\"Accuracy of SVM with polynomial kernel (of degree 3) is \",poly_accuracy)"
   ]
  },
  {
   "cell_type": "code",
   "execution_count": null,
   "id": "9782a701",
   "metadata": {},
   "outputs": [],
   "source": [
    "print(classification_report(y_test_50,poly_pred_y_50))"
   ]
  },
  {
   "cell_type": "code",
   "execution_count": null,
   "id": "11966c70",
   "metadata": {},
   "outputs": [],
   "source": [
    "cm_svm_poly_ALL_n = confusion_matrix(y_test_50, pred_y_test_50)\n",
    "fig, axes = plt.subplots(figsize=(5, 5))\n",
    "sns.heatmap(cm_svm_poly_ALL_n, annot=True, fmt=\"d\", cmap=\"Blues\", xticklabels=svm_poly.classes_, yticklabels=svm_poly.classes_, ax=axes)\n",
    "axes.set_title('SVM with polynomial(degree = 3) Kernel\\n on concatenated features(from CNN, HOG, LBP)\\n on normalised data')\n",
    "axes.set_xlabel('Predicted')\n",
    "axes.set_ylabel('True')"
   ]
  },
  {
   "cell_type": "markdown",
   "id": "d78324aa",
   "metadata": {},
   "source": [
    "#### Tuning Hyperparameters"
   ]
  },
  {
   "cell_type": "code",
   "execution_count": null,
   "id": "723b8a74",
   "metadata": {},
   "outputs": [],
   "source": [
    "# Defining parameter grid\n",
    "param_grid = {'C': [0.1, 1, 10, 100],\n",
    "              'gamma': [0.001, 0.01, 0.1, 1]}\n",
    "\n",
    "# Performing grid search\n",
    "grid_search = GridSearchCV(estimator=svm_poly, param_grid=param_grid, cv=5, scoring='accuracy', n_jobs=-1)\n",
    "grid_search.fit(X_train_50,y_train_50)\n",
    "\n",
    "cv_results = grid_search.cv_results_\n",
    "print(cv_results)\n",
    "# Best parameters\n",
    "poly_best_params_initial = grid_search.best_params_\n",
    "poly_best_params_initial"
   ]
  },
  {
   "cell_type": "code",
   "execution_count": null,
   "id": "148c4ae8",
   "metadata": {},
   "outputs": [],
   "source": [
    "# cv_results['param_C'].data"
   ]
  },
  {
   "cell_type": "code",
   "execution_count": null,
   "id": "30c3d6e3",
   "metadata": {},
   "outputs": [],
   "source": [
    "C_values = [0.1,1,10,100]\n",
    "Gamma_values = [0.001,0.01,0.1,1]\n",
    "mean_C = []\n",
    "for i in range(len(C_values)):\n",
    "    sum = 0\n",
    "    for j in range(len(Gamma_values)):\n",
    "        sum = sum + cv_results['mean_test_score'][i+j]\n",
    "    mean_C.append(sum/len(Gamma_values))\n",
    "print(mean_C)\n",
    "\n",
    "mean_gamma = []\n",
    "for i in range(len(Gamma_values)):\n",
    "    sum = 0\n",
    "    for j in range(len(C_values)):\n",
    "        if (i+j)%len(Gamma_values) == 0:\n",
    "            sum = sum + cv_results['mean_test_score'][i+j]\n",
    "    mean_gamma.append(sum/len(C_values))\n",
    "print(mean_gamma)"
   ]
  },
  {
   "cell_type": "code",
   "execution_count": null,
   "id": "227ecd80",
   "metadata": {},
   "outputs": [],
   "source": [
    "fig, ax = plt.subplots()\n",
    "\n",
    "\n",
    "ax.plot(C_values, mean_C, marker='o', linestyle='-')\n",
    "ax.set_xticks(C_values)\n",
    "ax.set_xticklabels(C_values,ha='right')\n",
    "\n",
    "ax.set_xlabel('C')\n",
    "ax.set_ylabel('Mean of Accuracies')\n",
    "ax.set_title('Mean of Accuracies v/s C')\n",
    "\n",
    "# Show the plot\n",
    "plt.show()"
   ]
  },
  {
   "cell_type": "code",
   "execution_count": null,
   "id": "e34d5d64",
   "metadata": {},
   "outputs": [],
   "source": [
    "fig, ax = plt.subplots()\n",
    "\n",
    "\n",
    "ax.plot(Gamma_values, mean_gamma, marker='o', linestyle='-')\n",
    "ax.set_xticks(Gamma_values)\n",
    "ax.set_xticklabels(Gamma_values, rotation=45 ,ha='right')\n",
    "\n",
    "ax.set_xlabel('gamma')\n",
    "ax.set_ylabel('Mean of Accuracies')\n",
    "ax.set_title('Mean of Accuracies v/s gamma')\n",
    "\n",
    "# Show the plot\n",
    "plt.show()"
   ]
  },
  {
   "cell_type": "code",
   "execution_count": null,
   "id": "0b0f3ae7",
   "metadata": {},
   "outputs": [],
   "source": [
    "svm_poly_tunned = SVC(kernel='poly', gamma=poly_best_params_initial['gamma'], C =poly_best_params_initial['C'] )\n",
    "svm_poly_tunned.fit(X_train_50, y_train_50)"
   ]
  },
  {
   "cell_type": "code",
   "execution_count": null,
   "id": "86527f21",
   "metadata": {},
   "outputs": [],
   "source": [
    "joblib.dump(svm_poly_tunned,'svm_poly_ALL_n_t.joblib')"
   ]
  },
  {
   "cell_type": "code",
   "execution_count": null,
   "id": "c6e11e2c",
   "metadata": {},
   "outputs": [],
   "source": [
    "poly_t_pred_y_50 = svm_poly_tunned.predict(X_test_50)"
   ]
  },
  {
   "cell_type": "code",
   "execution_count": null,
   "id": "347fdf5f",
   "metadata": {},
   "outputs": [],
   "source": [
    "poly_t_accuracy = accuracy_score(y_test_50,poly_t_pred_y_50)\n",
    "print(\"Accuracy of SVM with Polynomial kernel (degree = 3) with tunned hyperparameters is \",poly_t_accuracy)"
   ]
  },
  {
   "cell_type": "code",
   "execution_count": null,
   "id": "0c3989cf",
   "metadata": {},
   "outputs": [],
   "source": [
    "print(classification_report(y_test_50,poly_t_pred_y_50))"
   ]
  },
  {
   "cell_type": "code",
   "execution_count": null,
   "id": "3fc26658",
   "metadata": {},
   "outputs": [],
   "source": [
    "cm_svm_poly_ALL_n_t = confusion_matrix(y_test_50, poly_t_pred_y_50)\n",
    "fig, axes = plt.subplots(figsize=(5, 5))\n",
    "sns.heatmap(cm_svm_poly_ALL_n_t, annot=True, fmt=\"d\", cmap=\"Blues\", xticklabels=svm_poly_tunned.classes_, yticklabels=svm_poly_tunned.classes_, ax=axes)\n",
    "axes.set_title('SVM with polynomial(degree = 3) Kernel\\n on concatenated features(from CNN, HOG, LBP)\\n on normalised data with tunned Hyperparameters')\n",
    "axes.set_xlabel('Predicted')\n",
    "axes.set_ylabel('True')"
   ]
  },
  {
   "cell_type": "markdown",
   "id": "d2a1910a",
   "metadata": {},
   "source": [
    "### RBF Kernel"
   ]
  },
  {
   "cell_type": "code",
   "execution_count": null,
   "id": "fd084959",
   "metadata": {},
   "outputs": [],
   "source": [
    "# svm_rbf = joblib.load('svm_rbf_ALL_n.joblib')"
   ]
  },
  {
   "cell_type": "code",
   "execution_count": null,
   "id": "5f284b77",
   "metadata": {},
   "outputs": [],
   "source": [
    "rbf_pred_y_50 = svm_rbf.predict(X_test_50)"
   ]
  },
  {
   "cell_type": "code",
   "execution_count": null,
   "id": "ac4c5c83",
   "metadata": {},
   "outputs": [],
   "source": [
    "rbf_accuracy = accuracy_score(y_test_50,rbf_pred_y_50)\n",
    "print(\"Accuracy of SVM with RBF kernel is \",rbf_accuracy)"
   ]
  },
  {
   "cell_type": "code",
   "execution_count": null,
   "id": "a49cf821",
   "metadata": {},
   "outputs": [],
   "source": [
    "print(classification_report(y_test_50,rbf_pred_y_50))"
   ]
  },
  {
   "cell_type": "code",
   "execution_count": null,
   "id": "da964fda",
   "metadata": {},
   "outputs": [],
   "source": [
    "cm_svm_rbf_ALL_n = confusion_matrix(y_test_50, rbf_pred_y_50)\n",
    "fig, axes = plt.subplots(figsize=(5, 5))\n",
    "sns.heatmap(cm_svm_rbf_ALL_n, annot=True, fmt=\"d\", cmap=\"Blues\", xticklabels=svm_rbf.classes_, yticklabels=svm_rbf.classes_, ax=axes)\n",
    "axes.set_title('SVM with RBF Kernel\\n on concatenated features(from CNN, HOG, LBP)\\n on normalised data')\n",
    "axes.set_xlabel('Predicted')\n",
    "axes.set_ylabel('True')"
   ]
  },
  {
   "cell_type": "markdown",
   "id": "3f0660a4",
   "metadata": {},
   "source": [
    "#### Tuning Hyperparameteres"
   ]
  },
  {
   "cell_type": "code",
   "execution_count": null,
   "id": "da48d7f7",
   "metadata": {},
   "outputs": [],
   "source": [
    "# Define parameter grid\n",
    "param_grid = {'C': [0.1, 1, 10, 100],\n",
    "              'gamma': [0.001, 0.01, 0.1, 1]}\n",
    "\n",
    "# Performing grid search\n",
    "grid_search_i = GridSearchCV(estimator=svm_rbf, param_grid=param_grid, cv=5, scoring='accuracy', n_jobs=-1)\n",
    "grid_search_i.fit(X_train_50, y_train_50)\n",
    "\n",
    "# Best parameters\n",
    "rbf_best_params_initial = grid_search_i.best_params_\n",
    "rbf_best_params_initial"
   ]
  },
  {
   "cell_type": "code",
   "execution_count": null,
   "id": "f145a414",
   "metadata": {},
   "outputs": [],
   "source": [
    "C_values = [0.1,1,10,100]\n",
    "Gamma_values = [0.001,0.01,0.1,1]\n",
    "mean_C = []\n",
    "for i in range(len(C_values)):\n",
    "    sum = 0\n",
    "    for j in range(len(Gamma_values)):\n",
    "        sum = sum + grid_search_i.cv_results_['mean_test_score'][i+j]\n",
    "    mean_C.append(sum/len(Gamma_values))\n",
    "print(mean_C)\n",
    "\n",
    "mean_gamma = []\n",
    "for i in range(len(Gamma_values)):\n",
    "    sum = 0\n",
    "    for j in range(len(C_values)):\n",
    "        if (i+j)%len(Gamma_values) == 0:\n",
    "            sum = sum + grid_search_i.cv_results_['mean_test_score'][i+j]\n",
    "    mean_gamma.append(sum/len(C_values))\n",
    "print(mean_gamma)\n"
   ]
  },
  {
   "cell_type": "code",
   "execution_count": null,
   "id": "1c5fec10",
   "metadata": {},
   "outputs": [],
   "source": [
    "fig, ax = plt.subplots()\n",
    "ax.plot(C_values, mean_C, marker='o', linestyle='-')\n",
    "ax.set_xticks(C_values)\n",
    "ax.set_xticklabels(C_values,ha='right')\n",
    "\n",
    "ax.set_xlabel('C')\n",
    "ax.set_ylabel('Mean of Accuracies')\n",
    "ax.set_title('Mean of Accuracies v/s C')\n",
    "\n",
    "plt.show()\n"
   ]
  },
  {
   "cell_type": "code",
   "execution_count": null,
   "id": "264b10e3",
   "metadata": {},
   "outputs": [],
   "source": [
    "fig, ax = plt.subplots()\n",
    "ax.plot(Gamma_values, mean_gamma, marker='o', linestyle='-')\n",
    "ax.set_xticks(Gamma_values)\n",
    "ax.set_xticklabels(Gamma_values, rotation=45 ,ha='right')\n",
    "\n",
    "ax.set_xlabel('gamma')\n",
    "ax.set_ylabel('Mean of Accuracies')\n",
    "ax.set_title('Mean of Accuracies v/s gamma')\n",
    "\n",
    "plt.show()"
   ]
  },
  {
   "cell_type": "code",
   "execution_count": null,
   "id": "2d899509",
   "metadata": {},
   "outputs": [],
   "source": [
    "svm_rbf_tunned = SVC(kernel='rbf', gamma=rbf_best_params_initial['gamma'], C =rbf_best_params_initial['C'] )\n",
    "svm_rbf_tunned.fit(X_train_50, y_train_50)"
   ]
  },
  {
   "cell_type": "code",
   "execution_count": null,
   "id": "82462b9f",
   "metadata": {},
   "outputs": [],
   "source": [
    "joblib.dump(svm_rbf_tunned,'svm_rbf_ALL_n_ti.joblib')"
   ]
  },
  {
   "cell_type": "code",
   "execution_count": null,
   "id": "ca8748c8",
   "metadata": {},
   "outputs": [],
   "source": [
    "rbf_t_pred_y_50 = svm_rbf_tunned.predict(X_test_50)"
   ]
  },
  {
   "cell_type": "code",
   "execution_count": null,
   "id": "437d0cd7",
   "metadata": {},
   "outputs": [],
   "source": [
    "rbf_t_accuracy = accuracy_score(y_test_50,rbf_t_pred_y_50)\n",
    "print(\"Accuracy of SVM with rbf kernel with tunned hyperparameters is \",rbf_t_accuracy)"
   ]
  },
  {
   "cell_type": "code",
   "execution_count": null,
   "id": "9b14867f",
   "metadata": {},
   "outputs": [],
   "source": [
    "print(classification_report(y_test_50,rbf_t_pred_y_50))"
   ]
  },
  {
   "cell_type": "code",
   "execution_count": null,
   "id": "080abd5f",
   "metadata": {},
   "outputs": [],
   "source": [
    "cm_svm_rbf_ALL_n = confusion_matrix(y_test_50, rbf_t_pred_y_50)\n",
    "fig, axes = plt.subplots(figsize=(5, 5))\n",
    "sns.heatmap(cm_svm_rbf_ALL_n, annot=True, fmt=\"d\", cmap=\"Blues\", xticklabels=svm_rbf_tunned.classes_, yticklabels=svm_rbf_tunned.classes_, ax=axes)\n",
    "axes.set_title('SVM with RBF Kernel\\n on concatenated features(from CNN, HOG, LBP)\\n on normalised data')\n",
    "axes.set_xlabel('Predicted')\n",
    "axes.set_ylabel('True')"
   ]
  },
  {
   "cell_type": "code",
   "execution_count": null,
   "id": "8e88813f",
   "metadata": {},
   "outputs": [],
   "source": [
    "# Defining the starting and ending points for C and gamma, and the number of points\n",
    "start_C = 1\n",
    "end_C = 1\n",
    "num_C = 1\n",
    "\n",
    "start_gamma = 0.001\n",
    "end_gamma = 0.1\n",
    "num_gamma = 15\n",
    "\n",
    "# Parameter grid with specified ranges and number of points\n",
    "param_grid = {'C': np.linspace(start_C, end_C, num_C),\n",
    "              'gamma': np.linspace(start_gamma, end_gamma, num_gamma)}\n",
    "\n",
    "\n",
    "# Performing grid search\n",
    "grid_search_f = GridSearchCV(estimator=svm_rbf, param_grid=param_grid, cv=5 , scoring='accuracy', n_jobs=-1, verbose=2)\n",
    "grid_search_f.fit(X_train_50, y_train_50)\n",
    "\n",
    "# Best parameters\n",
    "rbf_best_params_final = grid_search_f.best_params_\n",
    "rbf_best_accuracy_final = grid_search_f.best_score_\n",
    "rbf_best_params_final"
   ]
  },
  {
   "cell_type": "code",
   "execution_count": null,
   "id": "8fd344f2",
   "metadata": {},
   "outputs": [],
   "source": [
    "svm_rbf_tunned_f = SVC(kernel='rbf', gamma=rbf_best_params_final['gamma'], C =rbf_best_params_final['C'] )\n",
    "svm_rbf_tunned_f.fit(X_train_50, y_train_50)"
   ]
  },
  {
   "cell_type": "code",
   "execution_count": null,
   "id": "86b7a914",
   "metadata": {},
   "outputs": [],
   "source": [
    "joblib.dump(svm_rbf_tunned_f,'svm_rbf_ALL_n_tf.joblib')"
   ]
  },
  {
   "cell_type": "code",
   "execution_count": null,
   "id": "9be72fce",
   "metadata": {},
   "outputs": [],
   "source": [
    "rbf_t_pred_y_50_f = svm_rbf_tunned_f.predict(X_test_50)"
   ]
  },
  {
   "cell_type": "code",
   "execution_count": null,
   "id": "7d859635",
   "metadata": {},
   "outputs": [],
   "source": [
    "rbf_t_accuracy_f = accuracy_score(y_test_50,rbf_t_pred_y_50_f)\n",
    "print(\"Accuracy of SVM with rbf kernel with tunned hyperparameters is \",rbf_t_accuracy_f)"
   ]
  },
  {
   "cell_type": "code",
   "execution_count": null,
   "id": "e3fdad74",
   "metadata": {},
   "outputs": [],
   "source": [
    "print(classification_report(y_test_50,rbf_t_pred_y_50_f))"
   ]
  },
  {
   "cell_type": "code",
   "execution_count": null,
   "id": "6d5f6a6c",
   "metadata": {},
   "outputs": [],
   "source": [
    "cm_svm_rbf_ALL_n_t = confusion_matrix(y_test_50, rbf_t_pred_y_50_f)\n",
    "fig, axes = plt.subplots(figsize=(5, 5))\n",
    "sns.heatmap(cm_svm_rbf_ALL_n_t, annot=True, fmt=\"d\", cmap=\"Blues\", xticklabels=svm_rbf_tunned_f.classes_, yticklabels=svm_rbf_tunned_f.classes_, ax=axes)\n",
    "axes.set_title('SVM with RBF Kernel\\n on concatenated features(from CNN, HOG, LBP)\\n on normalised data with tunned Hyperparameters')\n",
    "axes.set_xlabel('Predicted')\n",
    "axes.set_ylabel('True')"
   ]
  },
  {
   "cell_type": "markdown",
   "id": "511cdedb",
   "metadata": {},
   "source": [
    "# CNN HOG LBP Features seperately"
   ]
  },
  {
   "cell_type": "code",
   "execution_count": null,
   "id": "7262df31",
   "metadata": {},
   "outputs": [],
   "source": [
    "X_hog = X_50.loc[:,:944]\n",
    "X_cnn = X_50.loc[:,945:2992]\n",
    "X_lbp = X_50.loc[:,2993:]"
   ]
  },
  {
   "cell_type": "code",
   "execution_count": null,
   "id": "e6f7af6e",
   "metadata": {},
   "outputs": [],
   "source": [
    "# X_hog\n",
    "# X_cnn\n",
    "# X_lbp"
   ]
  },
  {
   "cell_type": "markdown",
   "id": "1f927951",
   "metadata": {},
   "source": [
    "## CNN Features"
   ]
  },
  {
   "cell_type": "code",
   "execution_count": null,
   "id": "b54f9d58",
   "metadata": {},
   "outputs": [],
   "source": [
    "X_train_50_df_cnn, X_test_50_df_cnn, y_train_50_cnn, y_test_50_cnn = train_test_split(X_cnn,y_50,train_size=0.8,random_state=42)\n",
    "X_train_50_df_cnn.reset_index(drop=True, inplace = True)\n",
    "X_test_50_df_cnn.reset_index(drop=True, inplace = True)\n",
    "y_train_50_cnn.reset_index(drop=True, inplace = True)\n",
    "y_test_50_cnn.reset_index(drop=True, inplace = True)"
   ]
  },
  {
   "cell_type": "code",
   "execution_count": null,
   "id": "bd98c87a",
   "metadata": {},
   "outputs": [],
   "source": [
    "#Normalising the data\n",
    "scaler_cnn=StandardScaler()\n",
    "X_train_arr=X_train_50_df_cnn.values\n",
    "X_test_arr=X_test_50_df_cnn.values\n",
    "X_train_arr_n=scaler_cnn.fit_transform(X_train_arr)\n",
    "joblib.dump(scaler_cnn,'Standard_Scalar_Normalisation_cnn.joblib')\n",
    "X_test_arr_n = scaler_cnn.transform(X_test_arr)\n",
    "X_train_50_cnn = pd.DataFrame(X_train_arr_n)\n",
    "X_test_50_cnn = pd.DataFrame(X_test_arr_n)\n",
    "# X_train_50_cnn"
   ]
  },
  {
   "cell_type": "markdown",
   "id": "ce8f9ebb",
   "metadata": {},
   "source": [
    "### LinearSVC"
   ]
  },
  {
   "cell_type": "code",
   "execution_count": null,
   "id": "620c215a",
   "metadata": {},
   "outputs": [],
   "source": [
    "# Training Linear Support Vector Classifier (LinearSVC)\n",
    "lin_clf_cnn = svm.LinearSVC(dual=False)\n",
    "lin_clf_cnn.fit(X_train_50_cnn, y_train_50_cnn)\n",
    "joblib.dump(lin_clf_cnn,'linearSVC_cnn.joblib')"
   ]
  },
  {
   "cell_type": "code",
   "execution_count": null,
   "id": "3cb492ad",
   "metadata": {},
   "outputs": [],
   "source": [
    "pred_y_test_50_cnn = lin_clf_cnn.predict(X_test_50_cnn)"
   ]
  },
  {
   "cell_type": "code",
   "execution_count": null,
   "id": "6e6aa7f9",
   "metadata": {},
   "outputs": [],
   "source": [
    "# Accuracy of linearSVC model\n",
    "linSVC_accuracy = lin_clf_cnn.score(X_test_50_cnn, y_test_50_cnn)\n",
    "print(\"Accuracy of linearSVC is \",linSVC_accuracy)"
   ]
  },
  {
   "cell_type": "code",
   "execution_count": null,
   "id": "2e5d0e64",
   "metadata": {},
   "outputs": [],
   "source": [
    "# Classification Report of linearSVC model\n",
    "print(classification_report(y_test_50_cnn,pred_y_test_50_cnn))"
   ]
  },
  {
   "cell_type": "code",
   "execution_count": null,
   "id": "8ee48e88",
   "metadata": {},
   "outputs": [],
   "source": [
    "cm_linearSVC_cnn_n = confusion_matrix(y_test_50_cnn, pred_y_test_50_cnn)\n",
    "fig, axes = plt.subplots(figsize=(5, 5))\n",
    "sns.heatmap(cm_linearSVC_cnn_n, annot=True, fmt=\"d\", cmap=\"Blues\", xticklabels=lin_clf_cnn.classes_, yticklabels=lin_clf_cnn.classes_, ax=axes)\n",
    "axes.set_title('LinearSVC on CNN features \\n on normalised data')\n",
    "axes.set_xlabel('Predicted')\n",
    "axes.set_ylabel('True')"
   ]
  },
  {
   "cell_type": "markdown",
   "id": "28f5259e",
   "metadata": {},
   "source": [
    "### SVM Models with Linear, polynomial and rbf kernals"
   ]
  },
  {
   "cell_type": "code",
   "execution_count": null,
   "id": "ba8a2422",
   "metadata": {},
   "outputs": [],
   "source": [
    "svm_linear_cnn = SVC(kernel='linear') # linear kernal\n",
    "svm_poly_cnn = SVC(kernel='poly', degree= 3)  # Polynomial kernel of degree 3\n",
    "svm_rbf_cnn = SVC(kernel='rbf')  # RBF kernel"
   ]
  },
  {
   "cell_type": "code",
   "execution_count": null,
   "id": "528ea1da",
   "metadata": {},
   "outputs": [],
   "source": [
    "svm_linear_cnn.fit(X_train_50_cnn, y_train_50_cnn)\n",
    "svm_poly_cnn.fit(X_train_50_cnn, y_train_50_cnn)\n",
    "svm_rbf_cnn.fit(X_train_50_cnn, y_train_50_cnn)"
   ]
  },
  {
   "cell_type": "code",
   "execution_count": null,
   "id": "f7cac247",
   "metadata": {},
   "outputs": [],
   "source": [
    "joblib.dump(svm_linear_cnn,'svm_linear_cnn_n.joblib')\n",
    "joblib.dump(svm_poly_cnn,'svm_poly_cnn_n.joblib')\n",
    "joblib.dump(svm_rbf_cnn,'svm_rbf_cnn_n.joblib')"
   ]
  },
  {
   "cell_type": "markdown",
   "id": "b51428c1",
   "metadata": {},
   "source": [
    "#### Linear Kernel"
   ]
  },
  {
   "cell_type": "code",
   "execution_count": null,
   "id": "7774b284",
   "metadata": {},
   "outputs": [],
   "source": [
    "svm_linear_cnn.get_params()"
   ]
  },
  {
   "cell_type": "code",
   "execution_count": null,
   "id": "27550680",
   "metadata": {},
   "outputs": [],
   "source": [
    "lin_pred_y_50_cnn = svm_linear_cnn.predict(X_test_50_cnn)"
   ]
  },
  {
   "cell_type": "code",
   "execution_count": null,
   "id": "91ac69ef",
   "metadata": {},
   "outputs": [],
   "source": [
    "lin_accuracy_cnn = accuracy_score(y_test_50_cnn,lin_pred_y_50_cnn)\n",
    "print(\"Accuracy of SVM with Linear kernel is \",lin_accuracy_cnn)"
   ]
  },
  {
   "cell_type": "code",
   "execution_count": null,
   "id": "6a9d69df",
   "metadata": {},
   "outputs": [],
   "source": [
    "print(classification_report(y_test_50_cnn,lin_pred_y_50_cnn))"
   ]
  },
  {
   "cell_type": "code",
   "execution_count": null,
   "id": "0932137a",
   "metadata": {},
   "outputs": [],
   "source": [
    "cm_svm_linear_cnn_n = confusion_matrix(y_test_50, lin_pred_y_50_cnn)\n",
    "fig, axes = plt.subplots(figsize=(5, 5))\n",
    "sns.heatmap(cm_svm_linear_cnn_n, annot=True, fmt=\"d\", cmap=\"Blues\", xticklabels=svm_linear_cnn.classes_, yticklabels=svm_linear_cnn.classes_, ax=axes)\n",
    "axes.set_title('SVM with Linear Kernel\\n on CNN features\\n on normalised data')\n",
    "axes.set_xlabel('Predicted')\n",
    "axes.set_ylabel('True')"
   ]
  },
  {
   "cell_type": "markdown",
   "id": "4304b8de",
   "metadata": {},
   "source": [
    "##### Tunning Hyperparameter"
   ]
  },
  {
   "cell_type": "code",
   "execution_count": null,
   "id": "cd1de456",
   "metadata": {},
   "outputs": [],
   "source": [
    "c_values = [0.1, 1, 10, 100]\n",
    "\n",
    "accuracy_values_cnn = []\n",
    "predicted_values_cnn = []\n",
    "\n",
    "for i in c_values:\n",
    "    svm_lin_tunned_cnn = SVC(kernel='linear', C = i )\n",
    "    svm_lin_tunned_cnn.fit(X_train_50_cnn, y_train_50_cnn)\n",
    "    lin_t_pred_y_50_cnn = svm_lin_tunned_cnn.predict(X_test_50_cnn)\n",
    "    lin_t_accuracy_cnn = accuracy_score(y_test_50_cnn,lin_t_pred_y_50_cnn)\n",
    "    \n",
    "    accuracy_values_cnn.append(lin_t_accuracy_cnn)\n",
    "    predicted_values_cnn.append(lin_t_pred_y_50_cnn)\n",
    "    \n",
    "print(accuracy_values_cnn)"
   ]
  },
  {
   "cell_type": "markdown",
   "id": "5f660c1a",
   "metadata": {},
   "source": [
    "Therefor, value of c (between 0.1 to 100) is not affecting the accuracy.\n",
    "So, no requirement of hyperparameter tuning."
   ]
  },
  {
   "cell_type": "markdown",
   "id": "dbc864ef",
   "metadata": {},
   "source": [
    "#### Polynomial Kernel"
   ]
  },
  {
   "cell_type": "code",
   "execution_count": null,
   "id": "37585989",
   "metadata": {},
   "outputs": [],
   "source": [
    "svm_poly_cnn.get_params()"
   ]
  },
  {
   "cell_type": "code",
   "execution_count": null,
   "id": "139f56ba",
   "metadata": {},
   "outputs": [],
   "source": [
    "poly_pred_y_50_cnn = svm_poly_cnn.predict(X_test_50_cnn)"
   ]
  },
  {
   "cell_type": "code",
   "execution_count": null,
   "id": "8910bc8a",
   "metadata": {},
   "outputs": [],
   "source": [
    "poly_accuracy_cnn = accuracy_score(y_test_50_cnn,poly_pred_y_50_cnn)\n",
    "print(\"Accuracy of SVM with polynomial kernel (of degree 3) is \",poly_accuracy_cnn)"
   ]
  },
  {
   "cell_type": "code",
   "execution_count": null,
   "id": "d5a25ea4",
   "metadata": {},
   "outputs": [],
   "source": [
    "print(classification_report(y_test_50_cnn,poly_pred_y_50_cnn))"
   ]
  },
  {
   "cell_type": "code",
   "execution_count": null,
   "id": "2400e555",
   "metadata": {},
   "outputs": [],
   "source": [
    "cm_svm_poly_cnn_n = confusion_matrix(y_test_50, poly_pred_y_50_cnn)\n",
    "fig, axes = plt.subplots(figsize=(5, 5))\n",
    "sns.heatmap(cm_svm_poly_cnn_n, annot=True, fmt=\"d\", cmap=\"Blues\", xticklabels=svm_poly_cnn.classes_, yticklabels=svm_poly_cnn.classes_, ax=axes)\n",
    "axes.set_title('SVM with Polynomial (degree=3) Kernel\\n on CNN features\\n on normalised data')\n",
    "axes.set_xlabel('Predicted')\n",
    "axes.set_ylabel('True')"
   ]
  },
  {
   "cell_type": "markdown",
   "id": "7d39a004",
   "metadata": {},
   "source": [
    "##### Tuning Hyperparameters"
   ]
  },
  {
   "cell_type": "code",
   "execution_count": null,
   "id": "c4fa5b7f",
   "metadata": {},
   "outputs": [],
   "source": [
    "# Defining parameter grid\n",
    "param_grid = {'C': [0.1, 1, 10, 100],\n",
    "              'gamma': [0.001, 0.01, 0.1, 1]}\n",
    "\n",
    "# Performing grid search\n",
    "grid_search_cnn_poly = GridSearchCV(estimator=svm_poly_cnn, param_grid=param_grid, cv=5, scoring='accuracy', n_jobs=-1)\n",
    "grid_search_cnn_poly.fit(X_train_50_cnn,y_train_50_cnn)\n",
    "\n",
    "# Best parameters\n",
    "poly_best_params_initial_cnn = grid_search_cnn_poly.best_params_\n",
    "poly_best_params_initial_cnn"
   ]
  },
  {
   "cell_type": "code",
   "execution_count": null,
   "id": "5b837be0",
   "metadata": {},
   "outputs": [],
   "source": [
    "C_values = [0.1,1,10,100]\n",
    "Gamma_values = [0.001,0.01,0.1,1]\n",
    "mean_C = []\n",
    "for i in range(len(C_values)):\n",
    "    sum = 0\n",
    "    for j in range(len(Gamma_values)):\n",
    "        sum = sum + grid_search_cnn_poly.cv_results_['mean_test_score'][i+j]\n",
    "    mean_C.append(sum/len(Gamma_values))\n",
    "print(mean_C)\n",
    "\n",
    "mean_gamma = []\n",
    "for i in range(len(Gamma_values)):\n",
    "    sum = 0\n",
    "    for j in range(len(C_values)):\n",
    "        if (i+j)%len(Gamma_values) == 0:\n",
    "            sum = sum + grid_search_cnn_poly.cv_results_['mean_test_score'][i+j]\n",
    "    mean_gamma.append(sum/len(C_values))\n",
    "print(mean_gamma)"
   ]
  },
  {
   "cell_type": "code",
   "execution_count": null,
   "id": "7dd95181",
   "metadata": {},
   "outputs": [],
   "source": [
    "fig, ax = plt.subplots()\n",
    "ax.plot(C_values, mean_C, marker='o', linestyle='-')\n",
    "ax.set_xticks(C_values)\n",
    "ax.set_xticklabels(C_values,ha='right')\n",
    "\n",
    "ax.set_xlabel('C')\n",
    "ax.set_ylabel('Mean of Accuracies')\n",
    "ax.set_title('Mean of Accuracies v/s C')\n",
    "\n",
    "plt.show()\n"
   ]
  },
  {
   "cell_type": "code",
   "execution_count": null,
   "id": "52a39148",
   "metadata": {},
   "outputs": [],
   "source": [
    "fig, ax = plt.subplots()\n",
    "ax.plot(Gamma_values, mean_gamma, marker='o', linestyle='-')\n",
    "ax.set_xticks(Gamma_values)\n",
    "ax.set_xticklabels(Gamma_values, rotation=45 ,ha='right')\n",
    "\n",
    "ax.set_xlabel('gamma')\n",
    "ax.set_ylabel('Mean of Accuracies')\n",
    "ax.set_title('Mean of Accuracies v/s gamma')\n",
    "\n",
    "plt.show()"
   ]
  },
  {
   "cell_type": "code",
   "execution_count": null,
   "id": "7642e099",
   "metadata": {},
   "outputs": [],
   "source": [
    "svm_poly_tunned_cnn = SVC(kernel='poly', gamma=poly_best_params_initial_cnn['gamma'], C =poly_best_params_initial_cnn['C'] )\n",
    "svm_poly_tunned_cnn.fit(X_train_50_cnn, y_train_50_cnn)"
   ]
  },
  {
   "cell_type": "code",
   "execution_count": null,
   "id": "887a601b",
   "metadata": {},
   "outputs": [],
   "source": [
    "joblib.dump(svm_poly_tunned_cnn,'svm_poly_cnn_n_t.joblib')"
   ]
  },
  {
   "cell_type": "code",
   "execution_count": null,
   "id": "e0f7a118",
   "metadata": {},
   "outputs": [],
   "source": [
    "poly_t_pred_y_50_cnn = svm_poly_tunned_cnn.predict(X_test_50_cnn)"
   ]
  },
  {
   "cell_type": "code",
   "execution_count": null,
   "id": "0463e9e9",
   "metadata": {},
   "outputs": [],
   "source": [
    "poly_t_accuracy_cnn = accuracy_score(y_test_50_cnn,poly_t_pred_y_50_cnn)\n",
    "print(\"Accuracy of SVM with Polynomial kernel (degree = 3) with tunned hyperparameters is \",poly_t_accuracy_cnn)"
   ]
  },
  {
   "cell_type": "code",
   "execution_count": null,
   "id": "e3790196",
   "metadata": {},
   "outputs": [],
   "source": [
    "print(classification_report(y_test_50_cnn,poly_t_pred_y_50_cnn))"
   ]
  },
  {
   "cell_type": "code",
   "execution_count": null,
   "id": "cf4a3672",
   "metadata": {},
   "outputs": [],
   "source": [
    "cm_svm_poly_cnn_n_t = confusion_matrix(y_test_50, lin_pred_y_50_cnn)\n",
    "fig, axes = plt.subplots(figsize=(5, 5))\n",
    "sns.heatmap(cm_svm_poly_cnn_n_t, annot=True, fmt=\"d\", cmap=\"Blues\", xticklabels=svm_poly_tunned_cnn.classes_, yticklabels=svm_poly_tunned_cnn.classes_, ax=axes)\n",
    "axes.set_title('SVM with Polynomial (degree=3) Kernel\\n on CNN features\\n on normalised data with tunned hyperparameters')\n",
    "axes.set_xlabel('Predicted')\n",
    "axes.set_ylabel('True')\n"
   ]
  },
  {
   "cell_type": "markdown",
   "id": "c8974b68",
   "metadata": {},
   "source": [
    "#### RBF Kernel"
   ]
  },
  {
   "cell_type": "code",
   "execution_count": null,
   "id": "b5c195e8",
   "metadata": {},
   "outputs": [],
   "source": [
    "rbf_pred_y_50_cnn = svm_rbf_cnn.predict(X_test_50_cnn)"
   ]
  },
  {
   "cell_type": "code",
   "execution_count": null,
   "id": "267d63d6",
   "metadata": {},
   "outputs": [],
   "source": [
    "rbf_accuracy_cnn = accuracy_score(y_test_50_cnn,rbf_pred_y_50_cnn)\n",
    "print(\"Accuracy of SVM with RBF kernel is \",rbf_accuracy_cnn)"
   ]
  },
  {
   "cell_type": "code",
   "execution_count": null,
   "id": "bd54d669",
   "metadata": {},
   "outputs": [],
   "source": [
    "print(classification_report(y_test_50_cnn,rbf_pred_y_50_cnn))"
   ]
  },
  {
   "cell_type": "code",
   "execution_count": null,
   "id": "86388700",
   "metadata": {},
   "outputs": [],
   "source": [
    "cm_svm_rbf_cnn_n = confusion_matrix(y_test_50, rbf_pred_y_50_cnn)\n",
    "fig, axes = plt.subplots(figsize=(5, 5))\n",
    "sns.heatmap(cm_svm_rbf_cnn_n, annot=True, fmt=\"d\", cmap=\"Blues\", xticklabels=svm_rbf_cnn.classes_, yticklabels=svm_rbf_cnn.classes_, ax=axes)\n",
    "axes.set_title('SVM with RBF Kernel\\n on CNN features\\n on normalised data')\n",
    "axes.set_xlabel('Predicted')\n",
    "axes.set_ylabel('True')"
   ]
  },
  {
   "cell_type": "markdown",
   "id": "acfef10b",
   "metadata": {},
   "source": [
    "##### Tuning Hyperparameteres"
   ]
  },
  {
   "cell_type": "code",
   "execution_count": null,
   "id": "bba8080a",
   "metadata": {},
   "outputs": [],
   "source": [
    "# Define parameter grid\n",
    "param_grid = {'C': [0.1, 1, 10, 100],\n",
    "              'gamma': [0.001, 0.01, 0.1, 1]}\n",
    "\n",
    "# Performing grid search\n",
    "grid_search_cnn_rbf = GridSearchCV(estimator=svm_rbf, param_grid=param_grid, cv=5, scoring='accuracy', n_jobs=-1)\n",
    "grid_search_cnn_rbf.fit(X_train_50_cnn, y_train_50_cnn)\n",
    "\n",
    "# Best parameters\n",
    "rbf_best_params_initial_cnn = grid_search_cnn_rbf.best_params_\n",
    "rbf_best_params_initial_cnn"
   ]
  },
  {
   "cell_type": "code",
   "execution_count": null,
   "id": "efafd418",
   "metadata": {},
   "outputs": [],
   "source": [
    "C_values = [0.1,1,10,100]\n",
    "Gamma_values = [0.001,0.01,0.1,1]\n",
    "mean_C = []\n",
    "for i in range(len(C_values)):\n",
    "    sum = 0\n",
    "    for j in range(len(Gamma_values)):\n",
    "        sum = sum + grid_search_cnn_rbf.cv_results_['mean_test_score'][i+j]\n",
    "    mean_C.append(sum/len(Gamma_values))\n",
    "print(mean_C)\n",
    "\n",
    "mean_gamma = []\n",
    "for i in range(len(Gamma_values)):\n",
    "    sum = 0\n",
    "    for j in range(len(C_values)):\n",
    "        if (i+j)%len(Gamma_values) == 0:\n",
    "            sum = sum + grid_search_cnn_rbf.cv_results_['mean_test_score'][i+j]\n",
    "    mean_gamma.append(sum/len(C_values))\n",
    "print(mean_gamma)"
   ]
  },
  {
   "cell_type": "code",
   "execution_count": null,
   "id": "572372d7",
   "metadata": {},
   "outputs": [],
   "source": [
    "fig, ax = plt.subplots()\n",
    "ax.plot(C_values, mean_C, marker='o', linestyle='-')\n",
    "ax.set_xticks(C_values)\n",
    "ax.set_xticklabels(C_values,ha='right')\n",
    "\n",
    "ax.set_xlabel('C')\n",
    "ax.set_ylabel('Mean of Accuracies')\n",
    "ax.set_title('Mean of Accuracies v/s C')\n",
    "\n",
    "plt.show()"
   ]
  },
  {
   "cell_type": "code",
   "execution_count": null,
   "id": "9dc2d0fd",
   "metadata": {},
   "outputs": [],
   "source": [
    "fig, ax = plt.subplots()\n",
    "ax.plot(Gamma_values, mean_gamma, marker='o', linestyle='-')\n",
    "ax.set_xticks(Gamma_values)\n",
    "ax.set_xticklabels(Gamma_values, rotation=45 ,ha='right')\n",
    "\n",
    "ax.set_xlabel('gamma')\n",
    "ax.set_ylabel('Mean of Accuracies')\n",
    "ax.set_title('Mean of Accuracies v/s gamma')\n",
    "\n",
    "plt.show()"
   ]
  },
  {
   "cell_type": "code",
   "execution_count": null,
   "id": "fde71be8",
   "metadata": {},
   "outputs": [],
   "source": [
    "svm_rbf_tunned_cnn = SVC(kernel='rbf', gamma=rbf_best_params_initial_cnn['gamma'], C =rbf_best_params_initial_cnn['C'] )\n",
    "svm_rbf_tunned_cnn.fit(X_train_50_cnn, y_train_50_cnn)"
   ]
  },
  {
   "cell_type": "code",
   "execution_count": null,
   "id": "b41565dd",
   "metadata": {},
   "outputs": [],
   "source": [
    "joblib.dump(svm_rbf_tunned_cnn,'svm_rbf_cnn_n_ti.joblib')"
   ]
  },
  {
   "cell_type": "code",
   "execution_count": null,
   "id": "75564a27",
   "metadata": {},
   "outputs": [],
   "source": [
    "rbf_t_pred_y_50_cnn = svm_rbf_tunned_cnn.predict(X_test_50_cnn)"
   ]
  },
  {
   "cell_type": "code",
   "execution_count": null,
   "id": "924f1b88",
   "metadata": {},
   "outputs": [],
   "source": [
    "rbf_t_accuracy_cnn = accuracy_score(y_test_50_cnn,rbf_t_pred_y_50_cnn)\n",
    "print(\"Accuracy of SVM with rbf kernel with tunned hyperparameters is \",rbf_t_accuracy_cnn)"
   ]
  },
  {
   "cell_type": "code",
   "execution_count": null,
   "id": "6c0e9ed7",
   "metadata": {},
   "outputs": [],
   "source": [
    "print(classification_report(y_test_50_cnn,rbf_t_pred_y_50_cnn))"
   ]
  },
  {
   "cell_type": "code",
   "execution_count": null,
   "id": "ba6dc6c5",
   "metadata": {},
   "outputs": [],
   "source": [
    "# Defining the starting and ending points for C and gamma, and the number of points\n",
    "start_C = 0.1\n",
    "end_C = 10\n",
    "num_C = 10\n",
    "\n",
    "start_gamma = 0.001\n",
    "end_gamma = 0.1\n",
    "num_gamma = 5\n",
    "\n",
    "# Parameter grid with specified ranges and number of points\n",
    "param_grid = {'C': np.linspace(start_C, end_C, num_C),\n",
    "              'gamma': np.linspace(start_gamma, end_gamma, num_gamma)}\n",
    "\n",
    "\n",
    "# Performing grid search\n",
    "grid_search_cnn_rbf = GridSearchCV(estimator=svm_rbf, param_grid=param_grid, cv=5 , scoring='accuracy', n_jobs=-1)\n",
    "grid_search_cnn_rbf.fit(X_train_50_cnn, y_train_50_cnn)\n",
    "\n",
    "# Best parameters\n",
    "rbf_best_params_final_cnn = grid_search_cnn_rbf.best_params_\n",
    "rbf_best_accuracy_final_cnn = grid_search_cnn_rbf.best_score_\n",
    "rbf_best_params_final_cnn"
   ]
  },
  {
   "cell_type": "code",
   "execution_count": null,
   "id": "f88375aa",
   "metadata": {},
   "outputs": [],
   "source": [
    "svm_rbf_tunned_f_cnn = SVC(kernel='rbf', gamma=rbf_best_params_final_cnn['gamma'], C =rbf_best_params_final_cnn['C'] )\n",
    "svm_rbf_tunned_f_cnn.fit(X_train_50_cnn, y_train_50_cnn)"
   ]
  },
  {
   "cell_type": "code",
   "execution_count": null,
   "id": "a6997afe",
   "metadata": {},
   "outputs": [],
   "source": [
    "joblib.dump(svm_rbf_tunned_f_cnn,'svm_rbf_cnn_n_tf.joblib')"
   ]
  },
  {
   "cell_type": "code",
   "execution_count": null,
   "id": "ef0e68bc",
   "metadata": {},
   "outputs": [],
   "source": [
    "rbf_t_pred_y_50_f_cnn = svm_rbf_tunned_f_cnn.predict(X_test_50_cnn)"
   ]
  },
  {
   "cell_type": "code",
   "execution_count": null,
   "id": "6aa401ee",
   "metadata": {},
   "outputs": [],
   "source": [
    "rbf_t_accuracy_f_cnn = accuracy_score(y_test_50_cnn,rbf_t_pred_y_50_f_cnn)\n",
    "print(\"Accuracy of SVM with rbf kernel with tunned hyperparameters is \",rbf_t_accuracy_f_cnn)"
   ]
  },
  {
   "cell_type": "code",
   "execution_count": null,
   "id": "0550ac5a",
   "metadata": {},
   "outputs": [],
   "source": [
    "print(classification_report(y_test_50_cnn,rbf_t_pred_y_50_f_cnn))"
   ]
  },
  {
   "cell_type": "code",
   "execution_count": null,
   "id": "202995fc",
   "metadata": {},
   "outputs": [],
   "source": [
    "cm_svm_rbf_cnn_n_tf = confusion_matrix(y_test_50, rbf_t_pred_y_50_f_cnn)\n",
    "fig, axes = plt.subplots(figsize=(5, 5))\n",
    "sns.heatmap(cm_svm_rbf_cnn_n_tf, annot=True, fmt=\"d\", cmap=\"Blues\", xticklabels=svm_rbf_tunned_f_cnn.classes_, yticklabels=svm_rbf_tunned_f_cnn.classes_, ax=axes)\n",
    "axes.set_title('SVM with RBF Kernel\\n on CNN features\\n on normalised data with tunned hyperparameters')\n",
    "axes.set_xlabel('Predicted')\n",
    "axes.set_ylabel('True')"
   ]
  },
  {
   "cell_type": "markdown",
   "id": "e618d198",
   "metadata": {},
   "source": [
    "## HoG Features"
   ]
  },
  {
   "cell_type": "code",
   "execution_count": null,
   "id": "db77ff84",
   "metadata": {},
   "outputs": [],
   "source": [
    "X_train_50_df_hog, X_test_50_df_hog, y_train_50_hog, y_test_50_hog = train_test_split(X_hog,y_50,train_size=0.8,random_state=42)\n",
    "X_train_50_df_hog.reset_index(drop=True, inplace = True)\n",
    "X_test_50_df_hog.reset_index(drop=True, inplace = True)\n",
    "y_train_50_hog.reset_index(drop=True, inplace = True)\n",
    "y_test_50_hog.reset_index(drop=True, inplace = True)"
   ]
  },
  {
   "cell_type": "code",
   "execution_count": null,
   "id": "8208643d",
   "metadata": {},
   "outputs": [],
   "source": [
    "#Normalising the data\n",
    "scaler_hog=StandardScaler()\n",
    "X_train_arr=X_train_50_df_hog.values\n",
    "X_test_arr=X_test_50_df_hog.values\n",
    "X_train_arr_n=scaler_hog.fit_transform(X_train_arr)\n",
    "joblib.dump(scaler_hog,'Standard_Scalar_Normalisation_hog.joblib')\n",
    "X_test_arr_n = scaler_hog.transform(X_test_arr)\n",
    "X_train_50_hog = pd.DataFrame(X_train_arr_n)\n",
    "X_test_50_hog = pd.DataFrame(X_test_arr_n)\n",
    "# X_train_50_hog"
   ]
  },
  {
   "cell_type": "markdown",
   "id": "dd1cc892",
   "metadata": {},
   "source": [
    "### LinearSVC"
   ]
  },
  {
   "cell_type": "code",
   "execution_count": null,
   "id": "61e71537",
   "metadata": {},
   "outputs": [],
   "source": [
    "# Training Linear Support Vector Classifier (LinearSVC)\n",
    "lin_clf_hog = svm.LinearSVC(dual=False)\n",
    "lin_clf_hog.fit(X_train_50_hog, y_train_50_hog)\n",
    "joblib.dump(lin_clf_hog,'linearSVC_hog.joblib')"
   ]
  },
  {
   "cell_type": "code",
   "execution_count": null,
   "id": "bf37ef34",
   "metadata": {},
   "outputs": [],
   "source": [
    "pred_y_test_50_hog = lin_clf_hog.predict(X_test_50_hog)"
   ]
  },
  {
   "cell_type": "code",
   "execution_count": null,
   "id": "fc0bd23a",
   "metadata": {},
   "outputs": [],
   "source": [
    "# Accuracy of linearSVC model\n",
    "linSVC_accuracy = lin_clf_hog.score(X_test_50_hog, y_test_50_hog)\n",
    "print(\"Accuracy of linearSVC is \",linSVC_accuracy)"
   ]
  },
  {
   "cell_type": "code",
   "execution_count": null,
   "id": "2834206a",
   "metadata": {},
   "outputs": [],
   "source": [
    "# Classification Report of linearSVC model\n",
    "print(classification_report(y_test_50_hog,pred_y_test_50_hog))"
   ]
  },
  {
   "cell_type": "code",
   "execution_count": null,
   "id": "81975de4",
   "metadata": {},
   "outputs": [],
   "source": [
    "cm_linearSVC_hog_n = confusion_matrix(y_test_50_hog, pred_y_test_50_hog)\n",
    "fig, axes = plt.subplots(figsize=(5, 5))\n",
    "sns.heatmap(cm_linearSVC_hog_n, annot=True, fmt=\"d\", cmap=\"Blues\", xticklabels=lin_clf_hog.classes_, yticklabels=lin_clf_hog.classes_, ax=axes)\n",
    "axes.set_title('LinearSVC on hog features \\n on normalised data')\n",
    "axes.set_xlabel('Predicted')\n",
    "axes.set_ylabel('True')"
   ]
  },
  {
   "cell_type": "markdown",
   "id": "dde54355",
   "metadata": {},
   "source": [
    "### SVM Models with Linear, polynomial and rbf kernals"
   ]
  },
  {
   "cell_type": "code",
   "execution_count": null,
   "id": "d8bff874",
   "metadata": {},
   "outputs": [],
   "source": [
    "svm_linear_hog = SVC(kernel='linear') # linear kernal\n",
    "svm_poly_hog = SVC(kernel='poly', degree= 3)  # Polynomial kernel of degree 3\n",
    "svm_rbf_hog = SVC(kernel='rbf')  # RBF kernel"
   ]
  },
  {
   "cell_type": "code",
   "execution_count": null,
   "id": "5139dc0f",
   "metadata": {},
   "outputs": [],
   "source": [
    "svm_linear_hog.fit(X_train_50_hog, y_train_50_hog)\n",
    "svm_poly_hog.fit(X_train_50_hog, y_train_50_hog)\n",
    "svm_rbf_hog.fit(X_train_50_hog, y_train_50_hog)"
   ]
  },
  {
   "cell_type": "code",
   "execution_count": null,
   "id": "63b2f7be",
   "metadata": {},
   "outputs": [],
   "source": [
    "joblib.dump(svm_linear_hog,'svm_linear_hog_n.joblib')\n",
    "joblib.dump(svm_poly_hog,'svm_poly_hog_n.joblib')\n",
    "joblib.dump(svm_rbf_hog,'svm_rbf_hog_n.joblib')"
   ]
  },
  {
   "cell_type": "markdown",
   "id": "a19b86de",
   "metadata": {},
   "source": [
    "#### Linear Kernel"
   ]
  },
  {
   "cell_type": "code",
   "execution_count": null,
   "id": "49d51f2f",
   "metadata": {},
   "outputs": [],
   "source": [
    "svm_linear_hog.get_params()"
   ]
  },
  {
   "cell_type": "code",
   "execution_count": null,
   "id": "3c9e975b",
   "metadata": {},
   "outputs": [],
   "source": [
    "lin_pred_y_50_hog = svm_linear_hog.predict(X_test_50_hog)"
   ]
  },
  {
   "cell_type": "code",
   "execution_count": null,
   "id": "8b38084c",
   "metadata": {},
   "outputs": [],
   "source": [
    "lin_accuracy_hog = accuracy_score(y_test_50_hog,lin_pred_y_50_hog)\n",
    "print(\"Accuracy of SVM with Linear kernel is \",lin_accuracy_hog)"
   ]
  },
  {
   "cell_type": "code",
   "execution_count": null,
   "id": "f028342c",
   "metadata": {},
   "outputs": [],
   "source": [
    "print(classification_report(y_test_50_hog,lin_pred_y_50_hog))"
   ]
  },
  {
   "cell_type": "code",
   "execution_count": null,
   "id": "b54a929c",
   "metadata": {},
   "outputs": [],
   "source": [
    "cm_svm_linear_hog_n = confusion_matrix(y_test_50, lin_pred_y_50_hog)\n",
    "fig, axes = plt.subplots(figsize=(5, 5))\n",
    "sns.heatmap(cm_svm_linear_hog_n, annot=True, fmt=\"d\", cmap=\"Blues\", xticklabels=svm_linear_hog.classes_, yticklabels=svm_linear_hog.classes_, ax=axes)\n",
    "axes.set_title('SVM with Linear Kernel\\n on hog features\\n on normalised data')\n",
    "axes.set_xlabel('Predicted')\n",
    "axes.set_ylabel('True')"
   ]
  },
  {
   "cell_type": "markdown",
   "id": "a63caaaa",
   "metadata": {},
   "source": [
    "##### Tunning Hyperparameter"
   ]
  },
  {
   "cell_type": "code",
   "execution_count": null,
   "id": "4bf63a44",
   "metadata": {},
   "outputs": [],
   "source": [
    "c_values = [0.1, 1, 10, 100]\n",
    "\n",
    "accuracy_values_hog = []\n",
    "predicted_values_hog = []\n",
    "\n",
    "for i in c_values:\n",
    "    svm_lin_tunned_hog = SVC(kernel='linear', C = i )\n",
    "    svm_lin_tunned_hog.fit(X_train_50_hog, y_train_50_hog)\n",
    "    lin_t_pred_y_50_hog = svm_lin_tunned_hog.predict(X_test_50_hog)\n",
    "    lin_t_accuracy_hog = accuracy_score(y_test_50_hog,lin_t_pred_y_50_hog)\n",
    "    \n",
    "    accuracy_values_hog.append(lin_t_accuracy_hog)\n",
    "    predicted_values_hog.append(lin_t_pred_y_50_hog)\n",
    "    \n",
    "print(accuracy_values_hog)"
   ]
  },
  {
   "cell_type": "markdown",
   "id": "7672f2a3",
   "metadata": {},
   "source": [
    "Therefor, value of c (between 0.1 to 100) is not affecting the accuracy.\n",
    "So, no requirement of hyperparameter tuning."
   ]
  },
  {
   "cell_type": "markdown",
   "id": "fa01b463",
   "metadata": {},
   "source": [
    "#### Polynomial Kernel"
   ]
  },
  {
   "cell_type": "code",
   "execution_count": null,
   "id": "35516f45",
   "metadata": {},
   "outputs": [],
   "source": [
    "svm_poly_hog.get_params()"
   ]
  },
  {
   "cell_type": "code",
   "execution_count": null,
   "id": "2df7bb02",
   "metadata": {},
   "outputs": [],
   "source": [
    "poly_pred_y_50_hog = svm_poly_hog.predict(X_test_50_hog)"
   ]
  },
  {
   "cell_type": "code",
   "execution_count": null,
   "id": "b6c878e4",
   "metadata": {},
   "outputs": [],
   "source": [
    "poly_accuracy_hog = accuracy_score(y_test_50_hog,poly_pred_y_50_hog)\n",
    "print(\"Accuracy of SVM with polynomial kernel (of degree 3) is \",poly_accuracy_hog)"
   ]
  },
  {
   "cell_type": "code",
   "execution_count": null,
   "id": "e72af94e",
   "metadata": {},
   "outputs": [],
   "source": [
    "print(classification_report(y_test_50_hog,poly_pred_y_50_hog))"
   ]
  },
  {
   "cell_type": "code",
   "execution_count": null,
   "id": "2bfda321",
   "metadata": {},
   "outputs": [],
   "source": [
    "cm_svm_poly_hog_n = confusion_matrix(y_test_50, poly_pred_y_50_hog)\n",
    "fig, axes = plt.subplots(figsize=(5, 5))\n",
    "sns.heatmap(cm_svm_poly_hog_n, annot=True, fmt=\"d\", cmap=\"Blues\", xticklabels=svm_poly_hog.classes_, yticklabels=svm_poly_hog.classes_, ax=axes)\n",
    "axes.set_title('SVM with Polynomial (degree=3) Kernel\\n on hog features\\n on normalised data')\n",
    "axes.set_xlabel('Predicted')\n",
    "axes.set_ylabel('True')"
   ]
  },
  {
   "cell_type": "markdown",
   "id": "2f781a92",
   "metadata": {},
   "source": [
    "##### Tuning Hyperparameters"
   ]
  },
  {
   "cell_type": "code",
   "execution_count": null,
   "id": "72a40a06",
   "metadata": {},
   "outputs": [],
   "source": [
    "# Defining parameter grid\n",
    "param_grid = {'C': [0.1, 1, 10, 100],\n",
    "              'gamma': [0.001, 0.01, 0.1, 1]}\n",
    "\n",
    "# Performing grid search\n",
    "grid_search_hog_poly = GridSearchCV(estimator=svm_poly_hog, param_grid=param_grid, cv=5, scoring='accuracy', n_jobs=-1)\n",
    "grid_search_hog_poly.fit(X_train_50_hog,y_train_50_hog)\n",
    "\n",
    "# Best parameters\n",
    "poly_best_params_initial_hog = grid_search_hog_poly.best_params_\n",
    "poly_best_params_initial_hog"
   ]
  },
  {
   "cell_type": "code",
   "execution_count": null,
   "id": "1b2cbfee",
   "metadata": {},
   "outputs": [],
   "source": [
    "C_values = [0.1,1,10,100]\n",
    "Gamma_values = [0.001,0.01,0.1,1]\n",
    "mean_C = []\n",
    "for i in range(len(C_values)):\n",
    "    sum = 0\n",
    "    for j in range(len(Gamma_values)):\n",
    "        sum = sum + grid_search_hog_poly.cv_results_['mean_test_score'][i+j]\n",
    "    mean_C.append(sum/len(Gamma_values))\n",
    "print(mean_C)\n",
    "\n",
    "mean_gamma = []\n",
    "for i in range(len(Gamma_values)):\n",
    "    sum = 0\n",
    "    for j in range(len(C_values)):\n",
    "        if (i+j)%len(Gamma_values) == 0:\n",
    "            sum = sum + grid_search_hog_poly.cv_results_['mean_test_score'][i+j]\n",
    "    mean_gamma.append(sum/len(C_values))\n",
    "print(mean_gamma)"
   ]
  },
  {
   "cell_type": "code",
   "execution_count": null,
   "id": "2ed1f0f9",
   "metadata": {},
   "outputs": [],
   "source": [
    "fig, ax = plt.subplots()\n",
    "ax.plot(C_values, mean_C, marker='o', linestyle='-')\n",
    "ax.set_xticks(C_values)\n",
    "ax.set_xticklabels(C_values,ha='right')\n",
    "\n",
    "ax.set_xlabel('C')\n",
    "ax.set_ylabel('Mean of Accuracies')\n",
    "ax.set_title('Mean of Accuracies v/s C')\n",
    "\n",
    "plt.show()\n"
   ]
  },
  {
   "cell_type": "code",
   "execution_count": null,
   "id": "e396b639",
   "metadata": {},
   "outputs": [],
   "source": [
    "fig, ax = plt.subplots()\n",
    "ax.plot(Gamma_values, mean_gamma, marker='o', linestyle='-')\n",
    "ax.set_xticks(Gamma_values)\n",
    "ax.set_xticklabels(Gamma_values, rotation=45 ,ha='right')\n",
    "\n",
    "ax.set_xlabel('gamma')\n",
    "ax.set_ylabel('Mean of Accuracies')\n",
    "ax.set_title('Mean of Accuracies v/s gamma')\n",
    "\n",
    "plt.show()"
   ]
  },
  {
   "cell_type": "code",
   "execution_count": null,
   "id": "2c0e9dfb",
   "metadata": {},
   "outputs": [],
   "source": [
    "svm_poly_tunned_hog = SVC(kernel='poly', gamma=poly_best_params_initial_hog['gamma'], C =poly_best_params_initial_hog['C'] )\n",
    "svm_poly_tunned_hog.fit(X_train_50_hog, y_train_50_hog)"
   ]
  },
  {
   "cell_type": "code",
   "execution_count": null,
   "id": "24b9054e",
   "metadata": {},
   "outputs": [],
   "source": [
    "joblib.dump(svm_poly_tunned_hog,'svm_poly_hog_n_t.joblib')"
   ]
  },
  {
   "cell_type": "code",
   "execution_count": null,
   "id": "14d459a3",
   "metadata": {},
   "outputs": [],
   "source": [
    "poly_t_pred_y_50_hog = svm_poly_tunned_hog.predict(X_test_50_hog)"
   ]
  },
  {
   "cell_type": "code",
   "execution_count": null,
   "id": "cb2de0bd",
   "metadata": {},
   "outputs": [],
   "source": [
    "poly_t_accuracy_hog = accuracy_score(y_test_50_hog,poly_t_pred_y_50_hog)\n",
    "print(\"Accuracy of SVM with Polynomial kernel (degree = 3) with tunned hyperparameters is \",poly_t_accuracy_hog)"
   ]
  },
  {
   "cell_type": "code",
   "execution_count": null,
   "id": "ecd05872",
   "metadata": {},
   "outputs": [],
   "source": [
    "print(classification_report(y_test_50_hog,poly_t_pred_y_50_hog))"
   ]
  },
  {
   "cell_type": "code",
   "execution_count": null,
   "id": "6df26a3e",
   "metadata": {},
   "outputs": [],
   "source": [
    "cm_svm_poly_hog_n_t = confusion_matrix(y_test_50, lin_pred_y_50_hog)\n",
    "fig, axes = plt.subplots(figsize=(5, 5))\n",
    "sns.heatmap(cm_svm_poly_hog_n_t, annot=True, fmt=\"d\", cmap=\"Blues\", xticklabels=svm_poly_tunned_hog.classes_, yticklabels=svm_poly_tunned_hog.classes_, ax=axes)\n",
    "axes.set_title('SVM with Polynomial (degree=3) Kernel\\n on hog features\\n on normalised data with tunned hyperparameters')\n",
    "axes.set_xlabel('Predicted')\n",
    "axes.set_ylabel('True')\n"
   ]
  },
  {
   "cell_type": "markdown",
   "id": "546b6175",
   "metadata": {},
   "source": [
    "#### RBF Kernel"
   ]
  },
  {
   "cell_type": "code",
   "execution_count": null,
   "id": "d600f29b",
   "metadata": {},
   "outputs": [],
   "source": [
    "rbf_pred_y_50_hog = svm_rbf_hog.predict(X_test_50_hog)"
   ]
  },
  {
   "cell_type": "code",
   "execution_count": null,
   "id": "d5a323a6",
   "metadata": {},
   "outputs": [],
   "source": [
    "rbf_accuracy_hog = accuracy_score(y_test_50_hog,rbf_pred_y_50_hog)\n",
    "print(\"Accuracy of SVM with RBF kernel is \",rbf_accuracy_hog)"
   ]
  },
  {
   "cell_type": "code",
   "execution_count": null,
   "id": "2567e711",
   "metadata": {},
   "outputs": [],
   "source": [
    "print(classification_report(y_test_50_hog,rbf_pred_y_50_hog))"
   ]
  },
  {
   "cell_type": "code",
   "execution_count": null,
   "id": "0ef469bb",
   "metadata": {},
   "outputs": [],
   "source": [
    "cm_svm_rbf_hog_n = confusion_matrix(y_test_50, rbf_pred_y_50_hog)\n",
    "fig, axes = plt.subplots(figsize=(5, 5))\n",
    "sns.heatmap(cm_svm_rbf_hog_n, annot=True, fmt=\"d\", cmap=\"Blues\", xticklabels=svm_rbf_hog.classes_, yticklabels=svm_rbf_hog.classes_, ax=axes)\n",
    "axes.set_title('SVM with RBF Kernel\\n on hog features\\n on normalised data')\n",
    "axes.set_xlabel('Predicted')\n",
    "axes.set_ylabel('True')"
   ]
  },
  {
   "cell_type": "markdown",
   "id": "bebbe380",
   "metadata": {},
   "source": [
    "##### Tuning Hyperparameteres"
   ]
  },
  {
   "cell_type": "code",
   "execution_count": null,
   "id": "6f860fc9",
   "metadata": {},
   "outputs": [],
   "source": [
    "# Define parameter grid\n",
    "param_grid = {'C': [0.1, 1, 10, 100],\n",
    "              'gamma': [0.001, 0.01, 0.1, 1]}\n",
    "\n",
    "# Performing grid search\n",
    "grid_search_hog_rbf = GridSearchCV(estimator=svm_rbf, param_grid=param_grid, cv=5, scoring='accuracy', n_jobs=-1)\n",
    "grid_search_hog_rbf.fit(X_train_50_hog, y_train_50_hog)\n",
    "\n",
    "# Best parameters\n",
    "rbf_best_params_initial_hog = grid_search_hog_rbf.best_params_\n",
    "rbf_best_params_initial_hog"
   ]
  },
  {
   "cell_type": "code",
   "execution_count": null,
   "id": "a810eaf4",
   "metadata": {},
   "outputs": [],
   "source": [
    "C_values = [0.1,1,10,100]\n",
    "Gamma_values = [0.001,0.01,0.1,1]\n",
    "mean_C = []\n",
    "for i in range(len(C_values)):\n",
    "    sum = 0\n",
    "    for j in range(len(Gamma_values)):\n",
    "        sum = sum + grid_search_hog_rbf.cv_results_['mean_test_score'][i+j]\n",
    "    mean_C.append(sum/len(Gamma_values))\n",
    "print(mean_C)\n",
    "\n",
    "mean_gamma = []\n",
    "for i in range(len(Gamma_values)):\n",
    "    sum = 0\n",
    "    for j in range(len(C_values)):\n",
    "        if (i+j)%len(Gamma_values) == 0:\n",
    "            sum = sum + grid_search_hog_rbf.cv_results_['mean_test_score'][i+j]\n",
    "    mean_gamma.append(sum/len(C_values))\n",
    "print(mean_gamma)"
   ]
  },
  {
   "cell_type": "code",
   "execution_count": null,
   "id": "a5b6eb19",
   "metadata": {},
   "outputs": [],
   "source": [
    "fig, ax = plt.subplots()\n",
    "ax.plot(C_values, mean_C, marker='o', linestyle='-')\n",
    "ax.set_xticks(C_values)\n",
    "ax.set_xticklabels(C_values,ha='right')\n",
    "\n",
    "ax.set_xlabel('C')\n",
    "ax.set_ylabel('Mean of Accuracies')\n",
    "ax.set_title('Mean of Accuracies v/s C')\n",
    "\n",
    "plt.show()"
   ]
  },
  {
   "cell_type": "code",
   "execution_count": null,
   "id": "23522ed6",
   "metadata": {},
   "outputs": [],
   "source": [
    "fig, ax = plt.subplots()\n",
    "ax.plot(Gamma_values, mean_gamma, marker='o', linestyle='-')\n",
    "ax.set_xticks(Gamma_values)\n",
    "ax.set_xticklabels(Gamma_values, rotation=45 ,ha='right')\n",
    "\n",
    "ax.set_xlabel('gamma')\n",
    "ax.set_ylabel('Mean of Accuracies')\n",
    "ax.set_title('Mean of Accuracies v/s gamma')\n",
    "\n",
    "plt.show()"
   ]
  },
  {
   "cell_type": "code",
   "execution_count": null,
   "id": "1b42c5d7",
   "metadata": {},
   "outputs": [],
   "source": [
    "svm_rbf_tunned_hog = SVC(kernel='rbf', gamma=rbf_best_params_initial_hog['gamma'], C =rbf_best_params_initial_hog['C'] )\n",
    "svm_rbf_tunned_hog.fit(X_train_50_hog, y_train_50_hog)"
   ]
  },
  {
   "cell_type": "code",
   "execution_count": null,
   "id": "222b267a",
   "metadata": {},
   "outputs": [],
   "source": [
    "joblib.dump(svm_rbf_tunned_hog,'svm_rbf_hog_n_ti.joblib')"
   ]
  },
  {
   "cell_type": "code",
   "execution_count": null,
   "id": "46cbab2a",
   "metadata": {},
   "outputs": [],
   "source": [
    "rbf_t_pred_y_50_hog = svm_rbf_tunned_hog.predict(X_test_50_hog)"
   ]
  },
  {
   "cell_type": "code",
   "execution_count": null,
   "id": "d9f7dad6",
   "metadata": {},
   "outputs": [],
   "source": [
    "rbf_t_accuracy_hog = accuracy_score(y_test_50_hog,rbf_t_pred_y_50_hog)\n",
    "print(\"Accuracy of SVM with rbf kernel with tunned hyperparameters is \",rbf_t_accuracy_hog)"
   ]
  },
  {
   "cell_type": "code",
   "execution_count": null,
   "id": "a27998d1",
   "metadata": {},
   "outputs": [],
   "source": [
    "print(classification_report(y_test_50_hog,rbf_t_pred_y_50_hog))"
   ]
  },
  {
   "cell_type": "code",
   "execution_count": null,
   "id": "fe87beba",
   "metadata": {},
   "outputs": [],
   "source": [
    "# Defining the starting and ending points for C and gamma, and the number of points\n",
    "start_C = 0.1\n",
    "end_C = 10\n",
    "num_C = 10\n",
    "\n",
    "start_gamma = 0.001\n",
    "end_gamma = 0.1\n",
    "num_gamma = 5\n",
    "\n",
    "# Parameter grid with specified ranges and number of points\n",
    "param_grid = {'C': np.linspace(start_C, end_C, num_C),\n",
    "              'gamma': np.linspace(start_gamma, end_gamma, num_gamma)}\n",
    "\n",
    "\n",
    "# Performing grid search\n",
    "grid_search_hog_rbf = GridSearchCV(estimator=svm_rbf, param_grid=param_grid, cv=5 , scoring='accuracy', n_jobs=-1)\n",
    "grid_search_hog_rbf.fit(X_train_50_hog, y_train_50_hog)\n",
    "\n",
    "# Best parameters\n",
    "rbf_best_params_final_hog = grid_search_hog_rbf.best_params_\n",
    "rbf_best_accuracy_final_hog = grid_search_hog_rbf.best_score_\n",
    "rbf_best_params_final_hog"
   ]
  },
  {
   "cell_type": "code",
   "execution_count": null,
   "id": "18d68d1d",
   "metadata": {},
   "outputs": [],
   "source": [
    "svm_rbf_tunned_f_hog = SVC(kernel='rbf', gamma=rbf_best_params_final_hog['gamma'], C =rbf_best_params_final_hog['C'] )\n",
    "svm_rbf_tunned_f_hog.fit(X_train_50_hog, y_train_50_hog)"
   ]
  },
  {
   "cell_type": "code",
   "execution_count": null,
   "id": "e449a27c",
   "metadata": {},
   "outputs": [],
   "source": [
    "joblib.dump(svm_rbf_tunned_f_hog,'svm_rbf_hog_n_tf.joblib')"
   ]
  },
  {
   "cell_type": "code",
   "execution_count": null,
   "id": "f9c257b0",
   "metadata": {},
   "outputs": [],
   "source": [
    "rbf_t_pred_y_50_f_hog = svm_rbf_tunned_f_hog.predict(X_test_50_hog)"
   ]
  },
  {
   "cell_type": "code",
   "execution_count": null,
   "id": "6b36bd19",
   "metadata": {},
   "outputs": [],
   "source": [
    "rbf_t_accuracy_f_hog = accuracy_score(y_test_50_hog,rbf_t_pred_y_50_f_hog)\n",
    "print(\"Accuracy of SVM with rbf kernel with tunned hyperparameters is \",rbf_t_accuracy_f_hog)"
   ]
  },
  {
   "cell_type": "code",
   "execution_count": null,
   "id": "914ad841",
   "metadata": {},
   "outputs": [],
   "source": [
    "print(classification_report(y_test_50_hog,rbf_t_pred_y_50_f_hog))"
   ]
  },
  {
   "cell_type": "code",
   "execution_count": null,
   "id": "edd7d522",
   "metadata": {},
   "outputs": [],
   "source": [
    "cm_svm_rbf_hog_n_tf = confusion_matrix(y_test_50, rbf_t_pred_y_50_f_hog)\n",
    "fig, axes = plt.subplots(figsize=(5, 5))\n",
    "sns.heatmap(cm_svm_rbf_hog_n_tf, annot=True, fmt=\"d\", cmap=\"Blues\", xticklabels=svm_rbf_tunned_f_hog.classes_, yticklabels=svm_rbf_tunned_f_hog.classes_, ax=axes)\n",
    "axes.set_title('SVM with RBF Kernel\\n on hog features\\n on normalised data with tunned hyperparameters')\n",
    "axes.set_xlabel('Predicted')\n",
    "axes.set_ylabel('True')"
   ]
  },
  {
   "cell_type": "code",
   "execution_count": null,
   "id": "1e33767e",
   "metadata": {},
   "outputs": [],
   "source": []
  },
  {
   "cell_type": "markdown",
   "id": "94e10709",
   "metadata": {},
   "source": [
    "## LBP Features"
   ]
  },
  {
   "cell_type": "code",
   "execution_count": null,
   "id": "b98acfb0",
   "metadata": {},
   "outputs": [],
   "source": [
    "X_train_50_df_lbp, X_test_50_df_lbp, y_train_50_lbp, y_test_50_lbp = train_test_split(X_lbp,y_50,train_size=0.8,random_state=42)\n",
    "X_train_50_df_lbp.reset_index(drop=True, inplace = True)\n",
    "X_test_50_df_lbp.reset_index(drop=True, inplace = True)\n",
    "y_train_50_lbp.reset_index(drop=True, inplace = True)\n",
    "y_test_50_lbp.reset_index(drop=True, inplace = True)"
   ]
  },
  {
   "cell_type": "code",
   "execution_count": null,
   "id": "4fdc00b0",
   "metadata": {},
   "outputs": [],
   "source": [
    "#Normalising the data\n",
    "scaler_lbp=StandardScaler()\n",
    "X_train_arr=X_train_50_df_lbp.values\n",
    "X_test_arr=X_test_50_df_lbp.values\n",
    "X_train_arr_n=scaler_lbp.fit_transform(X_train_arr)\n",
    "joblib.dump(scaler_lbp,'Standard_Scalar_Normalisation_lbp.joblib')\n",
    "X_test_arr_n = scaler_lbp.transform(X_test_arr)\n",
    "X_train_50_lbp = pd.DataFrame(X_train_arr_n)\n",
    "X_test_50_lbp = pd.DataFrame(X_test_arr_n)\n",
    "# X_train_50_lbp"
   ]
  },
  {
   "cell_type": "markdown",
   "id": "256fb267",
   "metadata": {},
   "source": [
    "### LinearSVC"
   ]
  },
  {
   "cell_type": "code",
   "execution_count": null,
   "id": "c3ed350d",
   "metadata": {},
   "outputs": [],
   "source": [
    "# Training Linear Support Vector Classifier (LinearSVC)\n",
    "lin_clf_lbp = svm.LinearSVC(dual=False)\n",
    "lin_clf_lbp.fit(X_train_50_lbp, y_train_50_lbp)\n",
    "joblib.dump(lin_clf_lbp,'linearSVC_lbp.joblib')"
   ]
  },
  {
   "cell_type": "code",
   "execution_count": null,
   "id": "4868f3cc",
   "metadata": {},
   "outputs": [],
   "source": [
    "pred_y_test_50_lbp = lin_clf_lbp.predict(X_test_50_lbp)"
   ]
  },
  {
   "cell_type": "code",
   "execution_count": null,
   "id": "6413de72",
   "metadata": {},
   "outputs": [],
   "source": [
    "# Accuracy of linearSVC model\n",
    "linSVC_accuracy = lin_clf_lbp.score(X_test_50_lbp, y_test_50_lbp)\n",
    "print(\"Accuracy of linearSVC is \",linSVC_accuracy)"
   ]
  },
  {
   "cell_type": "code",
   "execution_count": null,
   "id": "1a74fb1d",
   "metadata": {},
   "outputs": [],
   "source": [
    "# Classification Report of linearSVC model\n",
    "print(classification_report(y_test_50_lbp,pred_y_test_50_lbp))"
   ]
  },
  {
   "cell_type": "code",
   "execution_count": null,
   "id": "9e4ed742",
   "metadata": {},
   "outputs": [],
   "source": [
    "cm_linearSVC_lbp_n = confusion_matrix(y_test_50_lbp, pred_y_test_50_lbp)\n",
    "fig, axes = plt.subplots(figsize=(5, 5))\n",
    "sns.heatmap(cm_linearSVC_lbp_n, annot=True, fmt=\"d\", cmap=\"Blues\", xticklabels=lin_clf_lbp.classes_, yticklabels=lin_clf_lbp.classes_, ax=axes)\n",
    "axes.set_title('LinearSVC on lbp features \\n on normalised data')\n",
    "axes.set_xlabel('Predicted')\n",
    "axes.set_ylabel('True')"
   ]
  },
  {
   "cell_type": "markdown",
   "id": "07933738",
   "metadata": {},
   "source": [
    "### SVM Models with Linear, polynomial and rbf kernals"
   ]
  },
  {
   "cell_type": "code",
   "execution_count": null,
   "id": "f7deae7c",
   "metadata": {},
   "outputs": [],
   "source": [
    "svm_linear_lbp = SVC(kernel='linear') # linear kernal\n",
    "svm_poly_lbp = SVC(kernel='poly', degree= 3)  # Polynomial kernel of degree 3\n",
    "svm_rbf_lbp = SVC(kernel='rbf')  # RBF kernel"
   ]
  },
  {
   "cell_type": "code",
   "execution_count": null,
   "id": "420084ff",
   "metadata": {},
   "outputs": [],
   "source": [
    "svm_linear_lbp.fit(X_train_50_lbp, y_train_50_lbp)\n",
    "svm_poly_lbp.fit(X_train_50_lbp, y_train_50_lbp)\n",
    "svm_rbf_lbp.fit(X_train_50_lbp, y_train_50_lbp)"
   ]
  },
  {
   "cell_type": "code",
   "execution_count": null,
   "id": "33b97cb5",
   "metadata": {},
   "outputs": [],
   "source": [
    "joblib.dump(svm_linear_lbp,'svm_linear_lbp_n.joblib')\n",
    "joblib.dump(svm_poly_lbp,'svm_poly_lbp_n.joblib')\n",
    "joblib.dump(svm_rbf_lbp,'svm_rbf_lbp_n.joblib')"
   ]
  },
  {
   "cell_type": "markdown",
   "id": "d93ee055",
   "metadata": {},
   "source": [
    "#### Linear Kernel"
   ]
  },
  {
   "cell_type": "code",
   "execution_count": null,
   "id": "f5c5957f",
   "metadata": {},
   "outputs": [],
   "source": [
    "svm_linear_lbp.get_params()"
   ]
  },
  {
   "cell_type": "code",
   "execution_count": null,
   "id": "edb4d908",
   "metadata": {},
   "outputs": [],
   "source": [
    "lin_pred_y_50_lbp = svm_linear_lbp.predict(X_test_50_lbp)"
   ]
  },
  {
   "cell_type": "code",
   "execution_count": null,
   "id": "0ea98819",
   "metadata": {},
   "outputs": [],
   "source": [
    "lin_accuracy_lbp = accuracy_score(y_test_50_lbp,lin_pred_y_50_lbp)\n",
    "print(\"Accuracy of SVM with Linear kernel is \",lin_accuracy_lbp)"
   ]
  },
  {
   "cell_type": "code",
   "execution_count": null,
   "id": "4b1544f6",
   "metadata": {},
   "outputs": [],
   "source": [
    "print(classification_report(y_test_50_lbp,lin_pred_y_50_lbp))"
   ]
  },
  {
   "cell_type": "code",
   "execution_count": null,
   "id": "d4fce241",
   "metadata": {},
   "outputs": [],
   "source": [
    "cm_svm_linear_lbp_n = confusion_matrix(y_test_50, lin_pred_y_50_lbp)\n",
    "fig, axes = plt.subplots(figsize=(5, 5))\n",
    "sns.heatmap(cm_svm_linear_lbp_n, annot=True, fmt=\"d\", cmap=\"Blues\", xticklabels=svm_linear_lbp.classes_, yticklabels=svm_linear_lbp.classes_, ax=axes)\n",
    "axes.set_title('SVM with Linear Kernel\\n on lbp features\\n on normalised data')\n",
    "axes.set_xlabel('Predicted')\n",
    "axes.set_ylabel('True')"
   ]
  },
  {
   "cell_type": "markdown",
   "id": "68a57294",
   "metadata": {},
   "source": [
    "##### Tunning Hyperparameter"
   ]
  },
  {
   "cell_type": "code",
   "execution_count": null,
   "id": "fe949627",
   "metadata": {},
   "outputs": [],
   "source": [
    "c_values = [0.1, 1, 10, 100]\n",
    "\n",
    "accuracy_values_lbp = []\n",
    "predicted_values_lbp = []\n",
    "\n",
    "for i in c_values:\n",
    "    svm_lin_tunned_lbp = SVC(kernel='linear', C = i )\n",
    "    svm_lin_tunned_lbp.fit(X_train_50_lbp, y_train_50_lbp)\n",
    "    lin_t_pred_y_50_lbp = svm_lin_tunned_lbp.predict(X_test_50_lbp)\n",
    "    lin_t_accuracy_lbp = accuracy_score(y_test_50_lbp,lin_t_pred_y_50_lbp)\n",
    "    \n",
    "    accuracy_values_lbp.append(lin_t_accuracy_lbp)\n",
    "    predicted_values_lbp.append(lin_t_pred_y_50_lbp)\n",
    "    \n",
    "print(accuracy_values_lbp)"
   ]
  },
  {
   "cell_type": "markdown",
   "id": "9d45718d",
   "metadata": {},
   "source": [
    "Therefor, value of c (between 0.1 to 100) is not affecting the accuracy.\n",
    "So, no requirement of hyperparameter tuning."
   ]
  },
  {
   "cell_type": "markdown",
   "id": "62a01846",
   "metadata": {},
   "source": [
    "#### Polynomial Kernel"
   ]
  },
  {
   "cell_type": "code",
   "execution_count": null,
   "id": "e4963388",
   "metadata": {},
   "outputs": [],
   "source": [
    "svm_poly_lbp.get_params()"
   ]
  },
  {
   "cell_type": "code",
   "execution_count": null,
   "id": "033c9172",
   "metadata": {},
   "outputs": [],
   "source": [
    "poly_pred_y_50_lbp = svm_poly_lbp.predict(X_test_50_lbp)"
   ]
  },
  {
   "cell_type": "code",
   "execution_count": null,
   "id": "5769aeea",
   "metadata": {},
   "outputs": [],
   "source": [
    "poly_accuracy_lbp = accuracy_score(y_test_50_lbp,poly_pred_y_50_lbp)\n",
    "print(\"Accuracy of SVM with polynomial kernel (of degree 3) is \",poly_accuracy_lbp)"
   ]
  },
  {
   "cell_type": "code",
   "execution_count": null,
   "id": "556b8720",
   "metadata": {},
   "outputs": [],
   "source": [
    "print(classification_report(y_test_50_lbp,poly_pred_y_50_lbp))"
   ]
  },
  {
   "cell_type": "code",
   "execution_count": null,
   "id": "6b8f0b3c",
   "metadata": {},
   "outputs": [],
   "source": [
    "cm_svm_poly_lbp_n = confusion_matrix(y_test_50, poly_pred_y_50_lbp)\n",
    "fig, axes = plt.subplots(figsize=(5, 5))\n",
    "sns.heatmap(cm_svm_poly_lbp_n, annot=True, fmt=\"d\", cmap=\"Blues\", xticklabels=svm_poly_lbp.classes_, yticklabels=svm_poly_lbp.classes_, ax=axes)\n",
    "axes.set_title('SVM with Polynomial (degree=3) Kernel\\n on lbp features\\n on normalised data')\n",
    "axes.set_xlabel('Predicted')\n",
    "axes.set_ylabel('True')"
   ]
  },
  {
   "cell_type": "markdown",
   "id": "f7099e11",
   "metadata": {},
   "source": [
    "##### Tuning Hyperparameters"
   ]
  },
  {
   "cell_type": "code",
   "execution_count": null,
   "id": "ee377e36",
   "metadata": {},
   "outputs": [],
   "source": [
    "# Defining parameter grid\n",
    "param_grid = {'C': [0.1, 1, 10, 100],\n",
    "              'gamma': [0.001, 0.01, 0.1, 1]}\n",
    "\n",
    "# Performing grid search\n",
    "grid_search_lbp_poly = GridSearchCV(estimator=svm_poly_lbp, param_grid=param_grid, cv=5, scoring='accuracy', n_jobs=-1)\n",
    "grid_search_lbp_poly.fit(X_train_50_lbp,y_train_50_lbp)\n",
    "\n",
    "# Best parameters\n",
    "poly_best_params_initial_lbp = grid_search_lbp_poly.best_params_\n",
    "poly_best_params_initial_lbp"
   ]
  },
  {
   "cell_type": "code",
   "execution_count": null,
   "id": "6690c3d1",
   "metadata": {},
   "outputs": [],
   "source": [
    "C_values = [0.1,1,10,100]\n",
    "Gamma_values = [0.001,0.01,0.1,1]\n",
    "mean_C = []\n",
    "for i in range(len(C_values)):\n",
    "    sum = 0\n",
    "    for j in range(len(Gamma_values)):\n",
    "        sum = sum + grid_search_lbp_poly.cv_results_['mean_test_score'][i+j]\n",
    "    mean_C.append(sum/len(Gamma_values))\n",
    "print(mean_C)\n",
    "\n",
    "mean_gamma = []\n",
    "for i in range(len(Gamma_values)):\n",
    "    sum = 0\n",
    "    for j in range(len(C_values)):\n",
    "        if (i+j)%len(Gamma_values) == 0:\n",
    "            sum = sum + grid_search_lbp_poly.cv_results_['mean_test_score'][i+j]\n",
    "    mean_gamma.append(sum/len(C_values))\n",
    "print(mean_gamma)"
   ]
  },
  {
   "cell_type": "code",
   "execution_count": null,
   "id": "b63cedfd",
   "metadata": {},
   "outputs": [],
   "source": [
    "fig, ax = plt.subplots()\n",
    "ax.plot(C_values, mean_C, marker='o', linestyle='-')\n",
    "ax.set_xticks(C_values)\n",
    "ax.set_xticklabels(C_values,ha='right')\n",
    "\n",
    "ax.set_xlabel('C')\n",
    "ax.set_ylabel('Mean of Accuracies')\n",
    "ax.set_title('Mean of Accuracies v/s C')\n",
    "\n",
    "plt.show()\n"
   ]
  },
  {
   "cell_type": "code",
   "execution_count": null,
   "id": "bdff43b2",
   "metadata": {},
   "outputs": [],
   "source": [
    "fig, ax = plt.subplots()\n",
    "ax.plot(Gamma_values, mean_gamma, marker='o', linestyle='-')\n",
    "ax.set_xticks(Gamma_values)\n",
    "ax.set_xticklabels(Gamma_values, rotation=45 ,ha='right')\n",
    "\n",
    "ax.set_xlabel('gamma')\n",
    "ax.set_ylabel('Mean of Accuracies')\n",
    "ax.set_title('Mean of Accuracies v/s gamma')\n",
    "\n",
    "plt.show()"
   ]
  },
  {
   "cell_type": "code",
   "execution_count": null,
   "id": "0fbe215d",
   "metadata": {},
   "outputs": [],
   "source": [
    "svm_poly_tunned_lbp = SVC(kernel='poly', gamma=poly_best_params_initial_lbp['gamma'], C =poly_best_params_initial_lbp['C'] )\n",
    "svm_poly_tunned_lbp.fit(X_train_50_lbp, y_train_50_lbp)"
   ]
  },
  {
   "cell_type": "code",
   "execution_count": null,
   "id": "5c0f4d52",
   "metadata": {},
   "outputs": [],
   "source": [
    "joblib.dump(svm_poly_tunned_lbp,'svm_poly_lbp_n_t.joblib')"
   ]
  },
  {
   "cell_type": "code",
   "execution_count": null,
   "id": "b7b05d8f",
   "metadata": {},
   "outputs": [],
   "source": [
    "poly_t_pred_y_50_lbp = svm_poly_tunned_lbp.predict(X_test_50_lbp)"
   ]
  },
  {
   "cell_type": "code",
   "execution_count": null,
   "id": "cbca0154",
   "metadata": {},
   "outputs": [],
   "source": [
    "poly_t_accuracy_lbp = accuracy_score(y_test_50_lbp,poly_t_pred_y_50_lbp)\n",
    "print(\"Accuracy of SVM with Polynomial kernel (degree = 3) with tunned hyperparameters is \",poly_t_accuracy_lbp)"
   ]
  },
  {
   "cell_type": "code",
   "execution_count": null,
   "id": "b73fe30c",
   "metadata": {},
   "outputs": [],
   "source": [
    "print(classification_report(y_test_50_lbp,poly_t_pred_y_50_lbp))"
   ]
  },
  {
   "cell_type": "code",
   "execution_count": null,
   "id": "631d2b98",
   "metadata": {},
   "outputs": [],
   "source": [
    "cm_svm_poly_lbp_n_t = confusion_matrix(y_test_50, lin_pred_y_50_lbp)\n",
    "fig, axes = plt.subplots(figsize=(5, 5))\n",
    "sns.heatmap(cm_svm_poly_lbp_n_t, annot=True, fmt=\"d\", cmap=\"Blues\", xticklabels=svm_poly_tunned_lbp.classes_, yticklabels=svm_poly_tunned_lbp.classes_, ax=axes)\n",
    "axes.set_title('SVM with Polynomial (degree=3) Kernel\\n on lbp features\\n on normalised data with tunned hyperparameters')\n",
    "axes.set_xlabel('Predicted')\n",
    "axes.set_ylabel('True')\n"
   ]
  },
  {
   "cell_type": "markdown",
   "id": "e0ee1d75",
   "metadata": {},
   "source": [
    "#### RBF Kernel"
   ]
  },
  {
   "cell_type": "code",
   "execution_count": null,
   "id": "8b41c955",
   "metadata": {},
   "outputs": [],
   "source": [
    "rbf_pred_y_50_lbp = svm_rbf_lbp.predict(X_test_50_lbp)"
   ]
  },
  {
   "cell_type": "code",
   "execution_count": null,
   "id": "a1fe54fe",
   "metadata": {},
   "outputs": [],
   "source": [
    "rbf_accuracy_lbp = accuracy_score(y_test_50_lbp,rbf_pred_y_50_lbp)\n",
    "print(\"Accuracy of SVM with RBF kernel is \",rbf_accuracy_lbp)"
   ]
  },
  {
   "cell_type": "code",
   "execution_count": null,
   "id": "cfdeb19e",
   "metadata": {},
   "outputs": [],
   "source": [
    "print(classification_report(y_test_50_lbp,rbf_pred_y_50_lbp))"
   ]
  },
  {
   "cell_type": "code",
   "execution_count": null,
   "id": "3d597781",
   "metadata": {},
   "outputs": [],
   "source": [
    "cm_svm_rbf_lbp_n = confusion_matrix(y_test_50, rbf_pred_y_50_lbp)\n",
    "fig, axes = plt.subplots(figsize=(5, 5))\n",
    "sns.heatmap(cm_svm_rbf_lbp_n, annot=True, fmt=\"d\", cmap=\"Blues\", xticklabels=svm_rbf_lbp.classes_, yticklabels=svm_rbf_lbp.classes_, ax=axes)\n",
    "axes.set_title('SVM with RBF Kernel\\n on lbp features\\n on normalised data')\n",
    "axes.set_xlabel('Predicted')\n",
    "axes.set_ylabel('True')"
   ]
  },
  {
   "cell_type": "markdown",
   "id": "3117dbc6",
   "metadata": {},
   "source": [
    "##### Tuning Hyperparameteres"
   ]
  },
  {
   "cell_type": "code",
   "execution_count": null,
   "id": "70c7c5c1",
   "metadata": {},
   "outputs": [],
   "source": [
    "# Define parameter grid\n",
    "param_grid = {'C': [0.1, 1, 10, 100],\n",
    "              'gamma': [0.001, 0.01, 0.1, 1]}\n",
    "\n",
    "# Performing grid search\n",
    "grid_search_lbp_rbf = GridSearchCV(estimator=svm_rbf, param_grid=param_grid, cv=5, scoring='accuracy', n_jobs=-1)\n",
    "grid_search_lbp_rbf.fit(X_train_50_lbp, y_train_50_lbp)\n",
    "\n",
    "# Best parameters\n",
    "rbf_best_params_initial_lbp = grid_search_lbp_rbf.best_params_\n",
    "rbf_best_params_initial_lbp"
   ]
  },
  {
   "cell_type": "code",
   "execution_count": null,
   "id": "4a01983d",
   "metadata": {},
   "outputs": [],
   "source": [
    "C_values = [0.1,1,10,100]\n",
    "Gamma_values = [0.001,0.01,0.1,1]\n",
    "mean_C = []\n",
    "for i in range(len(C_values)):\n",
    "    sum = 0\n",
    "    for j in range(len(Gamma_values)):\n",
    "        sum = sum + grid_search_lbp_rbf.cv_results_['mean_test_score'][i+j]\n",
    "    mean_C.append(sum/len(Gamma_values))\n",
    "print(mean_C)\n",
    "\n",
    "mean_gamma = []\n",
    "for i in range(len(Gamma_values)):\n",
    "    sum = 0\n",
    "    for j in range(len(C_values)):\n",
    "        if (i+j)%len(Gamma_values) == 0:\n",
    "            sum = sum + grid_search_lbp_rbf.cv_results_['mean_test_score'][i+j]\n",
    "    mean_gamma.append(sum/len(C_values))\n",
    "print(mean_gamma)"
   ]
  },
  {
   "cell_type": "code",
   "execution_count": null,
   "id": "13f92b65",
   "metadata": {},
   "outputs": [],
   "source": [
    "fig, ax = plt.subplots()\n",
    "ax.plot(C_values, mean_C, marker='o', linestyle='-')\n",
    "ax.set_xticks(C_values)\n",
    "ax.set_xticklabels(C_values,ha='right')\n",
    "\n",
    "ax.set_xlabel('C')\n",
    "ax.set_ylabel('Mean of Accuracies')\n",
    "ax.set_title('Mean of Accuracies v/s C')\n",
    "\n",
    "plt.show()"
   ]
  },
  {
   "cell_type": "code",
   "execution_count": null,
   "id": "7e3b10a0",
   "metadata": {},
   "outputs": [],
   "source": [
    "fig, ax = plt.subplots()\n",
    "ax.plot(Gamma_values, mean_gamma, marker='o', linestyle='-')\n",
    "ax.set_xticks(Gamma_values)\n",
    "ax.set_xticklabels(Gamma_values, rotation=45 ,ha='right')\n",
    "\n",
    "ax.set_xlabel('gamma')\n",
    "ax.set_ylabel('Mean of Accuracies')\n",
    "ax.set_title('Mean of Accuracies v/s gamma')\n",
    "\n",
    "plt.show()"
   ]
  },
  {
   "cell_type": "code",
   "execution_count": null,
   "id": "1d639599",
   "metadata": {},
   "outputs": [],
   "source": [
    "svm_rbf_tunned_lbp = SVC(kernel='rbf', gamma=rbf_best_params_initial_lbp['gamma'], C =rbf_best_params_initial_lbp['C'] )\n",
    "svm_rbf_tunned_lbp.fit(X_train_50_lbp, y_train_50_lbp)"
   ]
  },
  {
   "cell_type": "code",
   "execution_count": null,
   "id": "04e6dd99",
   "metadata": {},
   "outputs": [],
   "source": [
    "joblib.dump(svm_rbf_tunned_lbp,'svm_rbf_lbp_n_ti.joblib')"
   ]
  },
  {
   "cell_type": "code",
   "execution_count": null,
   "id": "71632146",
   "metadata": {},
   "outputs": [],
   "source": [
    "rbf_t_pred_y_50_lbp = svm_rbf_tunned_lbp.predict(X_test_50_lbp)"
   ]
  },
  {
   "cell_type": "code",
   "execution_count": null,
   "id": "a1db34d2",
   "metadata": {},
   "outputs": [],
   "source": [
    "rbf_t_accuracy_lbp = accuracy_score(y_test_50_lbp,rbf_t_pred_y_50_lbp)\n",
    "print(\"Accuracy of SVM with rbf kernel with tunned hyperparameters is \",rbf_t_accuracy_lbp)"
   ]
  },
  {
   "cell_type": "code",
   "execution_count": null,
   "id": "3be8e81c",
   "metadata": {},
   "outputs": [],
   "source": [
    "print(classification_report(y_test_50_lbp,rbf_t_pred_y_50_lbp))"
   ]
  },
  {
   "cell_type": "code",
   "execution_count": null,
   "id": "255c1ffe",
   "metadata": {},
   "outputs": [],
   "source": [
    "# Defining the starting and ending points for C and gamma, and the number of points\n",
    "start_C = 0.1\n",
    "end_C = 10\n",
    "num_C = 10\n",
    "\n",
    "start_gamma = 0.001\n",
    "end_gamma = 0.1\n",
    "num_gamma = 5\n",
    "\n",
    "# Parameter grid with specified ranges and number of points\n",
    "param_grid = {'C': np.linspace(start_C, end_C, num_C),\n",
    "              'gamma': np.linspace(start_gamma, end_gamma, num_gamma)}\n",
    "\n",
    "\n",
    "# Performing grid search\n",
    "grid_search_lbp_rbf = GridSearchCV(estimator=svm_rbf, param_grid=param_grid, cv=5 , scoring='accuracy', n_jobs=-1)\n",
    "grid_search_lbp_rbf.fit(X_train_50_lbp, y_train_50_lbp)\n",
    "\n",
    "# Best parameters\n",
    "rbf_best_params_final_lbp = grid_search_lbp_rbf.best_params_\n",
    "rbf_best_accuracy_final_lbp = grid_search_lbp_rbf.best_score_\n",
    "rbf_best_params_final_lbp"
   ]
  },
  {
   "cell_type": "code",
   "execution_count": null,
   "id": "17ce0b63",
   "metadata": {},
   "outputs": [],
   "source": [
    "svm_rbf_tunned_f_lbp = SVC(kernel='rbf', gamma=rbf_best_params_final_lbp['gamma'], C =rbf_best_params_final_lbp['C'] )\n",
    "svm_rbf_tunned_f_lbp.fit(X_train_50_lbp, y_train_50_lbp)"
   ]
  },
  {
   "cell_type": "code",
   "execution_count": null,
   "id": "c4274ea8",
   "metadata": {},
   "outputs": [],
   "source": [
    "joblib.dump(svm_rbf_tunned_f_lbp,'svm_rbf_lbp_n_tf.joblib')"
   ]
  },
  {
   "cell_type": "code",
   "execution_count": null,
   "id": "8738cc25",
   "metadata": {},
   "outputs": [],
   "source": [
    "rbf_t_pred_y_50_f_lbp = svm_rbf_tunned_f_lbp.predict(X_test_50_lbp)"
   ]
  },
  {
   "cell_type": "code",
   "execution_count": null,
   "id": "bb07db12",
   "metadata": {},
   "outputs": [],
   "source": [
    "rbf_t_accuracy_f_lbp = accuracy_score(y_test_50_lbp,rbf_t_pred_y_50_f_lbp)\n",
    "print(\"Accuracy of SVM with rbf kernel with tunned hyperparameters is \",rbf_t_accuracy_f_lbp)"
   ]
  },
  {
   "cell_type": "code",
   "execution_count": null,
   "id": "2ba6f574",
   "metadata": {},
   "outputs": [],
   "source": [
    "print(classification_report(y_test_50_lbp,rbf_t_pred_y_50_f_lbp))"
   ]
  },
  {
   "cell_type": "code",
   "execution_count": null,
   "id": "92d257ea",
   "metadata": {},
   "outputs": [],
   "source": [
    "cm_svm_rbf_lbp_n_tf = confusion_matrix(y_test_50, rbf_t_pred_y_50_f_lbp)\n",
    "fig, axes = plt.subplots(figsize=(5, 5))\n",
    "sns.heatmap(cm_svm_rbf_lbp_n_tf, annot=True, fmt=\"d\", cmap=\"Blues\", xticklabels=svm_rbf_tunned_f_lbp.classes_, yticklabels=svm_rbf_tunned_f_lbp.classes_, ax=axes)\n",
    "axes.set_title('SVM with RBF Kernel\\n on lbp features\\n on normalised data with tunned hyperparameters')\n",
    "axes.set_xlabel('Predicted')\n",
    "axes.set_ylabel('True')"
   ]
  },
  {
   "cell_type": "code",
   "execution_count": null,
   "id": "c6c8f3b9",
   "metadata": {},
   "outputs": [],
   "source": []
  }
 ],
 "metadata": {
  "kernelspec": {
   "display_name": "Python 3 (ipykernel)",
   "language": "python",
   "name": "python3"
  },
  "language_info": {
   "codemirror_mode": {
    "name": "ipython",
    "version": 3
   },
   "file_extension": ".py",
   "mimetype": "text/x-python",
   "name": "python",
   "nbconvert_exporter": "python",
   "pygments_lexer": "ipython3",
   "version": "3.9.13"
  }
 },
 "nbformat": 4,
 "nbformat_minor": 5
}
